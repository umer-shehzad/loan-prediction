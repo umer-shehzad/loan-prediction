{
 "cells": [
  {
   "cell_type": "code",
   "execution_count": 1,
   "id": "e4536931",
   "metadata": {
    "_cell_guid": "b1076dfc-b9ad-4769-8c92-a6c4dae69d19",
    "_uuid": "8f2839f25d086af736a60e9eeb907d3b93b6e0e5",
    "execution": {
     "iopub.execute_input": "2021-09-27T11:10:50.714044Z",
     "iopub.status.busy": "2021-09-27T11:10:50.708419Z",
     "iopub.status.idle": "2021-09-27T11:10:50.731808Z",
     "shell.execute_reply": "2021-09-27T11:10:50.732629Z",
     "shell.execute_reply.started": "2021-09-27T09:44:58.007658Z"
    },
    "papermill": {
     "duration": 0.086073,
     "end_time": "2021-09-27T11:10:50.733033",
     "exception": false,
     "start_time": "2021-09-27T11:10:50.646960",
     "status": "completed"
    },
    "tags": []
   },
   "outputs": [
    {
     "name": "stdout",
     "output_type": "stream",
     "text": [
      "/kaggle/input/loan-data-set/loan_data_set.csv\n"
     ]
    }
   ],
   "source": [
    "# This Python 3 environment comes with many helpful analytics libraries installed\n",
    "# It is defined by the kaggle/python Docker image: https://github.com/kaggle/docker-python\n",
    "# For example, here's several helpful packages to load\n",
    "\n",
    "import numpy as np # linear algebra\n",
    "import pandas as pd # data processing, CSV file I/O (e.g. pd.read_csv)\n",
    "\n",
    "# Input data files are available in the read-only \"../input/\" directory\n",
    "# For example, running this (by clicking run or pressing Shift+Enter) will list all files under the input directory\n",
    "\n",
    "import os\n",
    "for dirname, _, filenames in os.walk('/kaggle/input'):\n",
    "    for filename in filenames:\n",
    "        print(os.path.join(dirname, filename))\n",
    "\n",
    "# You can write up to 20GB to the current directory (/kaggle/working/) that gets preserved as output when you create a version using \"Save & Run All\" \n",
    "# You can also write temporary files to /kaggle/temp/, but they won't be saved outside of the current session"
   ]
  },
  {
   "cell_type": "code",
   "execution_count": 2,
   "id": "7f699eff",
   "metadata": {
    "execution": {
     "iopub.execute_input": "2021-09-27T11:10:50.835737Z",
     "iopub.status.busy": "2021-09-27T11:10:50.834962Z",
     "iopub.status.idle": "2021-09-27T11:10:50.855831Z",
     "shell.execute_reply": "2021-09-27T11:10:50.856357Z",
     "shell.execute_reply.started": "2021-09-27T09:45:03.510958Z"
    },
    "papermill": {
     "duration": 0.073943,
     "end_time": "2021-09-27T11:10:50.856531",
     "exception": false,
     "start_time": "2021-09-27T11:10:50.782588",
     "status": "completed"
    },
    "tags": []
   },
   "outputs": [
    {
     "name": "stdout",
     "output_type": "stream",
     "text": [
      "Dataset load successfullly!\n"
     ]
    }
   ],
   "source": [
    "import pandas as pd\n",
    "data = pd.read_csv(\"/kaggle/input/loan-data-set/loan_data_set.csv\")\n",
    "print(\"Dataset load successfullly!\")"
   ]
  },
  {
   "cell_type": "markdown",
   "id": "c8b3936d",
   "metadata": {
    "papermill": {
     "duration": 0.048346,
     "end_time": "2021-09-27T11:10:50.954337",
     "exception": false,
     "start_time": "2021-09-27T11:10:50.905991",
     "status": "completed"
    },
    "tags": []
   },
   "source": [
    "Let's know our data"
   ]
  },
  {
   "cell_type": "code",
   "execution_count": 3,
   "id": "5a74d460",
   "metadata": {
    "execution": {
     "iopub.execute_input": "2021-09-27T11:10:51.056520Z",
     "iopub.status.busy": "2021-09-27T11:10:51.055734Z",
     "iopub.status.idle": "2021-09-27T11:10:51.085114Z",
     "shell.execute_reply": "2021-09-27T11:10:51.085659Z",
     "shell.execute_reply.started": "2021-09-27T09:45:05.870021Z"
    },
    "papermill": {
     "duration": 0.082695,
     "end_time": "2021-09-27T11:10:51.085839",
     "exception": false,
     "start_time": "2021-09-27T11:10:51.003144",
     "status": "completed"
    },
    "tags": []
   },
   "outputs": [
    {
     "data": {
      "text/html": [
       "<div>\n",
       "<style scoped>\n",
       "    .dataframe tbody tr th:only-of-type {\n",
       "        vertical-align: middle;\n",
       "    }\n",
       "\n",
       "    .dataframe tbody tr th {\n",
       "        vertical-align: top;\n",
       "    }\n",
       "\n",
       "    .dataframe thead th {\n",
       "        text-align: right;\n",
       "    }\n",
       "</style>\n",
       "<table border=\"1\" class=\"dataframe\">\n",
       "  <thead>\n",
       "    <tr style=\"text-align: right;\">\n",
       "      <th></th>\n",
       "      <th>Loan_ID</th>\n",
       "      <th>Gender</th>\n",
       "      <th>Married</th>\n",
       "      <th>Dependents</th>\n",
       "      <th>Education</th>\n",
       "      <th>Self_Employed</th>\n",
       "      <th>ApplicantIncome</th>\n",
       "      <th>CoapplicantIncome</th>\n",
       "      <th>LoanAmount</th>\n",
       "      <th>Loan_Amount_Term</th>\n",
       "      <th>Credit_History</th>\n",
       "      <th>Property_Area</th>\n",
       "      <th>Loan_Status</th>\n",
       "    </tr>\n",
       "  </thead>\n",
       "  <tbody>\n",
       "    <tr>\n",
       "      <th>0</th>\n",
       "      <td>LP001002</td>\n",
       "      <td>Male</td>\n",
       "      <td>No</td>\n",
       "      <td>0</td>\n",
       "      <td>Graduate</td>\n",
       "      <td>No</td>\n",
       "      <td>5849</td>\n",
       "      <td>0.0</td>\n",
       "      <td>NaN</td>\n",
       "      <td>360.0</td>\n",
       "      <td>1.0</td>\n",
       "      <td>Urban</td>\n",
       "      <td>Y</td>\n",
       "    </tr>\n",
       "    <tr>\n",
       "      <th>1</th>\n",
       "      <td>LP001003</td>\n",
       "      <td>Male</td>\n",
       "      <td>Yes</td>\n",
       "      <td>1</td>\n",
       "      <td>Graduate</td>\n",
       "      <td>No</td>\n",
       "      <td>4583</td>\n",
       "      <td>1508.0</td>\n",
       "      <td>128.0</td>\n",
       "      <td>360.0</td>\n",
       "      <td>1.0</td>\n",
       "      <td>Rural</td>\n",
       "      <td>N</td>\n",
       "    </tr>\n",
       "    <tr>\n",
       "      <th>2</th>\n",
       "      <td>LP001005</td>\n",
       "      <td>Male</td>\n",
       "      <td>Yes</td>\n",
       "      <td>0</td>\n",
       "      <td>Graduate</td>\n",
       "      <td>Yes</td>\n",
       "      <td>3000</td>\n",
       "      <td>0.0</td>\n",
       "      <td>66.0</td>\n",
       "      <td>360.0</td>\n",
       "      <td>1.0</td>\n",
       "      <td>Urban</td>\n",
       "      <td>Y</td>\n",
       "    </tr>\n",
       "    <tr>\n",
       "      <th>3</th>\n",
       "      <td>LP001006</td>\n",
       "      <td>Male</td>\n",
       "      <td>Yes</td>\n",
       "      <td>0</td>\n",
       "      <td>Not Graduate</td>\n",
       "      <td>No</td>\n",
       "      <td>2583</td>\n",
       "      <td>2358.0</td>\n",
       "      <td>120.0</td>\n",
       "      <td>360.0</td>\n",
       "      <td>1.0</td>\n",
       "      <td>Urban</td>\n",
       "      <td>Y</td>\n",
       "    </tr>\n",
       "    <tr>\n",
       "      <th>4</th>\n",
       "      <td>LP001008</td>\n",
       "      <td>Male</td>\n",
       "      <td>No</td>\n",
       "      <td>0</td>\n",
       "      <td>Graduate</td>\n",
       "      <td>No</td>\n",
       "      <td>6000</td>\n",
       "      <td>0.0</td>\n",
       "      <td>141.0</td>\n",
       "      <td>360.0</td>\n",
       "      <td>1.0</td>\n",
       "      <td>Urban</td>\n",
       "      <td>Y</td>\n",
       "    </tr>\n",
       "  </tbody>\n",
       "</table>\n",
       "</div>"
      ],
      "text/plain": [
       "    Loan_ID Gender Married Dependents     Education Self_Employed  \\\n",
       "0  LP001002   Male      No          0      Graduate            No   \n",
       "1  LP001003   Male     Yes          1      Graduate            No   \n",
       "2  LP001005   Male     Yes          0      Graduate           Yes   \n",
       "3  LP001006   Male     Yes          0  Not Graduate            No   \n",
       "4  LP001008   Male      No          0      Graduate            No   \n",
       "\n",
       "   ApplicantIncome  CoapplicantIncome  LoanAmount  Loan_Amount_Term  \\\n",
       "0             5849                0.0         NaN             360.0   \n",
       "1             4583             1508.0       128.0             360.0   \n",
       "2             3000                0.0        66.0             360.0   \n",
       "3             2583             2358.0       120.0             360.0   \n",
       "4             6000                0.0       141.0             360.0   \n",
       "\n",
       "   Credit_History Property_Area Loan_Status  \n",
       "0             1.0         Urban           Y  \n",
       "1             1.0         Rural           N  \n",
       "2             1.0         Urban           Y  \n",
       "3             1.0         Urban           Y  \n",
       "4             1.0         Urban           Y  "
      ]
     },
     "execution_count": 3,
     "metadata": {},
     "output_type": "execute_result"
    }
   ],
   "source": [
    "#see head of data\n",
    "data.head()"
   ]
  },
  {
   "cell_type": "code",
   "execution_count": 4,
   "id": "be7aaa99",
   "metadata": {
    "execution": {
     "iopub.execute_input": "2021-09-27T11:10:51.187659Z",
     "iopub.status.busy": "2021-09-27T11:10:51.186948Z",
     "iopub.status.idle": "2021-09-27T11:10:51.193303Z",
     "shell.execute_reply": "2021-09-27T11:10:51.192732Z",
     "shell.execute_reply.started": "2021-09-27T09:45:07.606262Z"
    },
    "papermill": {
     "duration": 0.058022,
     "end_time": "2021-09-27T11:10:51.193450",
     "exception": false,
     "start_time": "2021-09-27T11:10:51.135428",
     "status": "completed"
    },
    "tags": []
   },
   "outputs": [
    {
     "data": {
      "text/plain": [
       "(614, 13)"
      ]
     },
     "execution_count": 4,
     "metadata": {},
     "output_type": "execute_result"
    }
   ],
   "source": [
    "#shape of data ---> 614 rows and 13 columns\n",
    "data.shape"
   ]
  },
  {
   "cell_type": "code",
   "execution_count": 5,
   "id": "e170d0a7",
   "metadata": {
    "execution": {
     "iopub.execute_input": "2021-09-27T11:10:51.345418Z",
     "iopub.status.busy": "2021-09-27T11:10:51.317798Z",
     "iopub.status.idle": "2021-09-27T11:10:51.348527Z",
     "shell.execute_reply": "2021-09-27T11:10:51.347875Z",
     "shell.execute_reply.started": "2021-09-27T09:45:08.790888Z"
    },
    "papermill": {
     "duration": 0.100427,
     "end_time": "2021-09-27T11:10:51.348682",
     "exception": false,
     "start_time": "2021-09-27T11:10:51.248255",
     "status": "completed"
    },
    "tags": []
   },
   "outputs": [
    {
     "name": "stdout",
     "output_type": "stream",
     "text": [
      "<class 'pandas.core.frame.DataFrame'>\n",
      "RangeIndex: 614 entries, 0 to 613\n",
      "Data columns (total 13 columns):\n",
      " #   Column             Non-Null Count  Dtype  \n",
      "---  ------             --------------  -----  \n",
      " 0   Loan_ID            614 non-null    object \n",
      " 1   Gender             601 non-null    object \n",
      " 2   Married            611 non-null    object \n",
      " 3   Dependents         599 non-null    object \n",
      " 4   Education          614 non-null    object \n",
      " 5   Self_Employed      582 non-null    object \n",
      " 6   ApplicantIncome    614 non-null    int64  \n",
      " 7   CoapplicantIncome  614 non-null    float64\n",
      " 8   LoanAmount         592 non-null    float64\n",
      " 9   Loan_Amount_Term   600 non-null    float64\n",
      " 10  Credit_History     564 non-null    float64\n",
      " 11  Property_Area      614 non-null    object \n",
      " 12  Loan_Status        614 non-null    object \n",
      "dtypes: float64(4), int64(1), object(8)\n",
      "memory usage: 62.5+ KB\n"
     ]
    }
   ],
   "source": [
    "data.info()"
   ]
  },
  {
   "cell_type": "code",
   "execution_count": 6,
   "id": "dec8eea8",
   "metadata": {
    "execution": {
     "iopub.execute_input": "2021-09-27T11:10:51.451167Z",
     "iopub.status.busy": "2021-09-27T11:10:51.450512Z",
     "iopub.status.idle": "2021-09-27T11:10:51.480293Z",
     "shell.execute_reply": "2021-09-27T11:10:51.480860Z",
     "shell.execute_reply.started": "2021-09-27T09:45:09.749755Z"
    },
    "papermill": {
     "duration": 0.082953,
     "end_time": "2021-09-27T11:10:51.481073",
     "exception": false,
     "start_time": "2021-09-27T11:10:51.398120",
     "status": "completed"
    },
    "tags": []
   },
   "outputs": [
    {
     "data": {
      "text/html": [
       "<div>\n",
       "<style scoped>\n",
       "    .dataframe tbody tr th:only-of-type {\n",
       "        vertical-align: middle;\n",
       "    }\n",
       "\n",
       "    .dataframe tbody tr th {\n",
       "        vertical-align: top;\n",
       "    }\n",
       "\n",
       "    .dataframe thead th {\n",
       "        text-align: right;\n",
       "    }\n",
       "</style>\n",
       "<table border=\"1\" class=\"dataframe\">\n",
       "  <thead>\n",
       "    <tr style=\"text-align: right;\">\n",
       "      <th></th>\n",
       "      <th>ApplicantIncome</th>\n",
       "      <th>CoapplicantIncome</th>\n",
       "      <th>LoanAmount</th>\n",
       "      <th>Loan_Amount_Term</th>\n",
       "      <th>Credit_History</th>\n",
       "    </tr>\n",
       "  </thead>\n",
       "  <tbody>\n",
       "    <tr>\n",
       "      <th>count</th>\n",
       "      <td>614.000000</td>\n",
       "      <td>614.000000</td>\n",
       "      <td>592.000000</td>\n",
       "      <td>600.00000</td>\n",
       "      <td>564.000000</td>\n",
       "    </tr>\n",
       "    <tr>\n",
       "      <th>mean</th>\n",
       "      <td>5403.459283</td>\n",
       "      <td>1621.245798</td>\n",
       "      <td>146.412162</td>\n",
       "      <td>342.00000</td>\n",
       "      <td>0.842199</td>\n",
       "    </tr>\n",
       "    <tr>\n",
       "      <th>std</th>\n",
       "      <td>6109.041673</td>\n",
       "      <td>2926.248369</td>\n",
       "      <td>85.587325</td>\n",
       "      <td>65.12041</td>\n",
       "      <td>0.364878</td>\n",
       "    </tr>\n",
       "    <tr>\n",
       "      <th>min</th>\n",
       "      <td>150.000000</td>\n",
       "      <td>0.000000</td>\n",
       "      <td>9.000000</td>\n",
       "      <td>12.00000</td>\n",
       "      <td>0.000000</td>\n",
       "    </tr>\n",
       "    <tr>\n",
       "      <th>25%</th>\n",
       "      <td>2877.500000</td>\n",
       "      <td>0.000000</td>\n",
       "      <td>100.000000</td>\n",
       "      <td>360.00000</td>\n",
       "      <td>1.000000</td>\n",
       "    </tr>\n",
       "    <tr>\n",
       "      <th>50%</th>\n",
       "      <td>3812.500000</td>\n",
       "      <td>1188.500000</td>\n",
       "      <td>128.000000</td>\n",
       "      <td>360.00000</td>\n",
       "      <td>1.000000</td>\n",
       "    </tr>\n",
       "    <tr>\n",
       "      <th>75%</th>\n",
       "      <td>5795.000000</td>\n",
       "      <td>2297.250000</td>\n",
       "      <td>168.000000</td>\n",
       "      <td>360.00000</td>\n",
       "      <td>1.000000</td>\n",
       "    </tr>\n",
       "    <tr>\n",
       "      <th>max</th>\n",
       "      <td>81000.000000</td>\n",
       "      <td>41667.000000</td>\n",
       "      <td>700.000000</td>\n",
       "      <td>480.00000</td>\n",
       "      <td>1.000000</td>\n",
       "    </tr>\n",
       "  </tbody>\n",
       "</table>\n",
       "</div>"
      ],
      "text/plain": [
       "       ApplicantIncome  CoapplicantIncome  LoanAmount  Loan_Amount_Term  \\\n",
       "count       614.000000         614.000000  592.000000         600.00000   \n",
       "mean       5403.459283        1621.245798  146.412162         342.00000   \n",
       "std        6109.041673        2926.248369   85.587325          65.12041   \n",
       "min         150.000000           0.000000    9.000000          12.00000   \n",
       "25%        2877.500000           0.000000  100.000000         360.00000   \n",
       "50%        3812.500000        1188.500000  128.000000         360.00000   \n",
       "75%        5795.000000        2297.250000  168.000000         360.00000   \n",
       "max       81000.000000       41667.000000  700.000000         480.00000   \n",
       "\n",
       "       Credit_History  \n",
       "count      564.000000  \n",
       "mean         0.842199  \n",
       "std          0.364878  \n",
       "min          0.000000  \n",
       "25%          1.000000  \n",
       "50%          1.000000  \n",
       "75%          1.000000  \n",
       "max          1.000000  "
      ]
     },
     "execution_count": 6,
     "metadata": {},
     "output_type": "execute_result"
    }
   ],
   "source": [
    "#It only predicts the numerical data\n",
    "data.describe()"
   ]
  },
  {
   "cell_type": "code",
   "execution_count": 7,
   "id": "e16e130d",
   "metadata": {
    "execution": {
     "iopub.execute_input": "2021-09-27T11:10:51.609361Z",
     "iopub.status.busy": "2021-09-27T11:10:51.603888Z",
     "iopub.status.idle": "2021-09-27T11:10:51.614509Z",
     "shell.execute_reply": "2021-09-27T11:10:51.613800Z",
     "shell.execute_reply.started": "2021-09-27T09:45:11.118554Z"
    },
    "papermill": {
     "duration": 0.084411,
     "end_time": "2021-09-27T11:10:51.614678",
     "exception": false,
     "start_time": "2021-09-27T11:10:51.530267",
     "status": "completed"
    },
    "tags": []
   },
   "outputs": [
    {
     "data": {
      "text/html": [
       "<div>\n",
       "<style scoped>\n",
       "    .dataframe tbody tr th:only-of-type {\n",
       "        vertical-align: middle;\n",
       "    }\n",
       "\n",
       "    .dataframe tbody tr th {\n",
       "        vertical-align: top;\n",
       "    }\n",
       "\n",
       "    .dataframe thead th {\n",
       "        text-align: right;\n",
       "    }\n",
       "</style>\n",
       "<table border=\"1\" class=\"dataframe\">\n",
       "  <thead>\n",
       "    <tr style=\"text-align: right;\">\n",
       "      <th></th>\n",
       "      <th>Loan_ID</th>\n",
       "      <th>Gender</th>\n",
       "      <th>Married</th>\n",
       "      <th>Dependents</th>\n",
       "      <th>Education</th>\n",
       "      <th>Self_Employed</th>\n",
       "      <th>Property_Area</th>\n",
       "      <th>Loan_Status</th>\n",
       "    </tr>\n",
       "  </thead>\n",
       "  <tbody>\n",
       "    <tr>\n",
       "      <th>count</th>\n",
       "      <td>614</td>\n",
       "      <td>601</td>\n",
       "      <td>611</td>\n",
       "      <td>599</td>\n",
       "      <td>614</td>\n",
       "      <td>582</td>\n",
       "      <td>614</td>\n",
       "      <td>614</td>\n",
       "    </tr>\n",
       "    <tr>\n",
       "      <th>unique</th>\n",
       "      <td>614</td>\n",
       "      <td>2</td>\n",
       "      <td>2</td>\n",
       "      <td>4</td>\n",
       "      <td>2</td>\n",
       "      <td>2</td>\n",
       "      <td>3</td>\n",
       "      <td>2</td>\n",
       "    </tr>\n",
       "    <tr>\n",
       "      <th>top</th>\n",
       "      <td>LP001002</td>\n",
       "      <td>Male</td>\n",
       "      <td>Yes</td>\n",
       "      <td>0</td>\n",
       "      <td>Graduate</td>\n",
       "      <td>No</td>\n",
       "      <td>Semiurban</td>\n",
       "      <td>Y</td>\n",
       "    </tr>\n",
       "    <tr>\n",
       "      <th>freq</th>\n",
       "      <td>1</td>\n",
       "      <td>489</td>\n",
       "      <td>398</td>\n",
       "      <td>345</td>\n",
       "      <td>480</td>\n",
       "      <td>500</td>\n",
       "      <td>233</td>\n",
       "      <td>422</td>\n",
       "    </tr>\n",
       "  </tbody>\n",
       "</table>\n",
       "</div>"
      ],
      "text/plain": [
       "         Loan_ID Gender Married Dependents Education Self_Employed  \\\n",
       "count        614    601     611        599       614           582   \n",
       "unique       614      2       2          4         2             2   \n",
       "top     LP001002   Male     Yes          0  Graduate            No   \n",
       "freq           1    489     398        345       480           500   \n",
       "\n",
       "       Property_Area Loan_Status  \n",
       "count            614         614  \n",
       "unique             3           2  \n",
       "top        Semiurban           Y  \n",
       "freq             233         422  "
      ]
     },
     "execution_count": 7,
     "metadata": {},
     "output_type": "execute_result"
    }
   ],
   "source": [
    "#To describe categorical columns\n",
    "data.describe(include='object')"
   ]
  },
  {
   "cell_type": "code",
   "execution_count": 8,
   "id": "40f3ebe7",
   "metadata": {
    "execution": {
     "iopub.execute_input": "2021-09-27T11:10:51.726832Z",
     "iopub.status.busy": "2021-09-27T11:10:51.725994Z",
     "iopub.status.idle": "2021-09-27T11:10:51.729812Z",
     "shell.execute_reply": "2021-09-27T11:10:51.730332Z",
     "shell.execute_reply.started": "2021-09-27T09:45:12.958036Z"
    },
    "papermill": {
     "duration": 0.064126,
     "end_time": "2021-09-27T11:10:51.730527",
     "exception": false,
     "start_time": "2021-09-27T11:10:51.666401",
     "status": "completed"
    },
    "tags": []
   },
   "outputs": [
    {
     "data": {
      "text/plain": [
       "Index(['ApplicantIncome', 'CoapplicantIncome', 'LoanAmount',\n",
       "       'Loan_Amount_Term', 'Credit_History'],\n",
       "      dtype='object')"
      ]
     },
     "execution_count": 8,
     "metadata": {},
     "output_type": "execute_result"
    }
   ],
   "source": [
    "#get numerocal columns names\n",
    "numericalCols = data.select_dtypes(['float64','int64']).columns\n",
    "numericalCols"
   ]
  },
  {
   "cell_type": "code",
   "execution_count": 9,
   "id": "f50723da",
   "metadata": {
    "execution": {
     "iopub.execute_input": "2021-09-27T11:10:51.835682Z",
     "iopub.status.busy": "2021-09-27T11:10:51.834660Z",
     "iopub.status.idle": "2021-09-27T11:10:51.844578Z",
     "shell.execute_reply": "2021-09-27T11:10:51.843817Z",
     "shell.execute_reply.started": "2021-09-27T09:45:14.350068Z"
    },
    "papermill": {
     "duration": 0.064178,
     "end_time": "2021-09-27T11:10:51.844744",
     "exception": false,
     "start_time": "2021-09-27T11:10:51.780566",
     "status": "completed"
    },
    "tags": []
   },
   "outputs": [
    {
     "data": {
      "text/plain": [
       "Index(['Loan_ID', 'Gender', 'Married', 'Dependents', 'Education',\n",
       "       'Self_Employed', 'Property_Area', 'Loan_Status'],\n",
       "      dtype='object')"
      ]
     },
     "execution_count": 9,
     "metadata": {},
     "output_type": "execute_result"
    }
   ],
   "source": [
    "#get Categorical columns names\n",
    "categoricalCols = data.select_dtypes(['object']).columns\n",
    "categoricalCols"
   ]
  },
  {
   "cell_type": "code",
   "execution_count": 10,
   "id": "8804dac4",
   "metadata": {
    "execution": {
     "iopub.execute_input": "2021-09-27T11:10:51.970706Z",
     "iopub.status.busy": "2021-09-27T11:10:51.969977Z",
     "iopub.status.idle": "2021-09-27T11:10:51.988418Z",
     "shell.execute_reply": "2021-09-27T11:10:51.987695Z",
     "shell.execute_reply.started": "2021-09-27T09:45:19.790294Z"
    },
    "papermill": {
     "duration": 0.08935,
     "end_time": "2021-09-27T11:10:51.988588",
     "exception": false,
     "start_time": "2021-09-27T11:10:51.899238",
     "status": "completed"
    },
    "tags": []
   },
   "outputs": [
    {
     "data": {
      "text/html": [
       "<div>\n",
       "<style scoped>\n",
       "    .dataframe tbody tr th:only-of-type {\n",
       "        vertical-align: middle;\n",
       "    }\n",
       "\n",
       "    .dataframe tbody tr th {\n",
       "        vertical-align: top;\n",
       "    }\n",
       "\n",
       "    .dataframe thead th {\n",
       "        text-align: right;\n",
       "    }\n",
       "</style>\n",
       "<table border=\"1\" class=\"dataframe\">\n",
       "  <thead>\n",
       "    <tr style=\"text-align: right;\">\n",
       "      <th>Loan_Status</th>\n",
       "      <th>N</th>\n",
       "      <th>Y</th>\n",
       "    </tr>\n",
       "    <tr>\n",
       "      <th>Credit_History</th>\n",
       "      <th></th>\n",
       "      <th></th>\n",
       "    </tr>\n",
       "  </thead>\n",
       "  <tbody>\n",
       "    <tr>\n",
       "      <th>0.0</th>\n",
       "      <td>82</td>\n",
       "      <td>7</td>\n",
       "    </tr>\n",
       "    <tr>\n",
       "      <th>1.0</th>\n",
       "      <td>97</td>\n",
       "      <td>378</td>\n",
       "    </tr>\n",
       "  </tbody>\n",
       "</table>\n",
       "</div>"
      ],
      "text/plain": [
       "Loan_Status      N    Y\n",
       "Credit_History         \n",
       "0.0             82    7\n",
       "1.0             97  378"
      ]
     },
     "execution_count": 10,
     "metadata": {},
     "output_type": "execute_result"
    }
   ],
   "source": [
    "#it is used to check the cross-tabulation of two or more factors\n",
    "pd.crosstab(data['Credit_History'], data['Loan_Status'])"
   ]
  },
  {
   "cell_type": "code",
   "execution_count": 11,
   "id": "c0ef5a13",
   "metadata": {
    "execution": {
     "iopub.execute_input": "2021-09-27T11:10:52.097235Z",
     "iopub.status.busy": "2021-09-27T11:10:52.096550Z",
     "iopub.status.idle": "2021-09-27T11:10:52.444882Z",
     "shell.execute_reply": "2021-09-27T11:10:52.444231Z",
     "shell.execute_reply.started": "2021-09-27T09:45:30.391587Z"
    },
    "papermill": {
     "duration": 0.4054,
     "end_time": "2021-09-27T11:10:52.445040",
     "exception": false,
     "start_time": "2021-09-27T11:10:52.039640",
     "status": "completed"
    },
    "tags": []
   },
   "outputs": [
    {
     "data": {
      "text/plain": [
       "'As we can see that ApplicantIncome and CoapplicantIncome columns has large Standard Deviation and more outliers.\\nwhile LoanAmount and Loan_Amount_Term columns has less Standard Deviation and less outliers.'"
      ]
     },
     "execution_count": 11,
     "metadata": {},
     "output_type": "execute_result"
    },
    {
     "data": {
      "image/png": "[encoded data removed]",
      "text/plain": [
       "<Figure size 432x288 with 1 Axes>"
      ]
     },
     "metadata": {
      "needs_background": "light"
     },
     "output_type": "display_data"
    }
   ],
   "source": [
    "#draw a boxplot to check the outliers\n",
    "data.boxplot(column=['ApplicantIncome', 'CoapplicantIncome', 'LoanAmount', \n",
    "                     'Loan_Amount_Term'])\n",
    "'''As we can see that ApplicantIncome and CoapplicantIncome columns has large Standard Deviation and more outliers.\n",
    "while LoanAmount and Loan_Amount_Term columns has less Standard Deviation and less outliers.'''"
   ]
  },
  {
   "cell_type": "code",
   "execution_count": 12,
   "id": "65db0c04",
   "metadata": {
    "execution": {
     "iopub.execute_input": "2021-09-27T11:10:52.584268Z",
     "iopub.status.busy": "2021-09-27T11:10:52.583160Z",
     "iopub.status.idle": "2021-09-27T11:10:52.855666Z",
     "shell.execute_reply": "2021-09-27T11:10:52.854972Z",
     "shell.execute_reply.started": "2021-09-27T09:45:31.430572Z"
    },
    "papermill": {
     "duration": 0.358218,
     "end_time": "2021-09-27T11:10:52.855829",
     "exception": false,
     "start_time": "2021-09-27T11:10:52.497611",
     "status": "completed"
    },
    "tags": []
   },
   "outputs": [
    {
     "data": {
      "text/plain": [
       "'See! Data is left skewed. We have to convert it normal Distribution'"
      ]
     },
     "execution_count": 12,
     "metadata": {},
     "output_type": "execute_result"
    },
    {
     "data": {
      "image/png": "[encoded data removed]",
      "text/plain": [
       "<Figure size 432x288 with 1 Axes>"
      ]
     },
     "metadata": {
      "needs_background": "light"
     },
     "output_type": "display_data"
    }
   ],
   "source": [
    "#By using Histogram, lets  check the distribution of Numerical columns one by one.\n",
    "data['ApplicantIncome'].hist(bins=20)\n",
    "'''See! Data is left skewed. We have to convert it normal Distribution'''"
   ]
  },
  {
   "cell_type": "code",
   "execution_count": 13,
   "id": "61515d0a",
   "metadata": {
    "execution": {
     "iopub.execute_input": "2021-09-27T11:10:52.989340Z",
     "iopub.status.busy": "2021-09-27T11:10:52.985674Z",
     "iopub.status.idle": "2021-09-27T11:10:53.274961Z",
     "shell.execute_reply": "2021-09-27T11:10:53.274363Z",
     "shell.execute_reply.started": "2021-09-27T09:45:32.629992Z"
    },
    "papermill": {
     "duration": 0.366041,
     "end_time": "2021-09-27T11:10:53.275161",
     "exception": false,
     "start_time": "2021-09-27T11:10:52.909120",
     "status": "completed"
    },
    "tags": []
   },
   "outputs": [
    {
     "data": {
      "text/plain": [
       "'Again, data is left skewed'"
      ]
     },
     "execution_count": 13,
     "metadata": {},
     "output_type": "execute_result"
    },
    {
     "data": {
      "image/png": "[encoded data removed]",
      "text/plain": [
       "<Figure size 432x288 with 1 Axes>"
      ]
     },
     "metadata": {
      "needs_background": "light"
     },
     "output_type": "display_data"
    }
   ],
   "source": [
    "data['ApplicantIncome'].hist(bins=20)\n",
    "'''Again, data is left skewed'''"
   ]
  },
  {
   "cell_type": "code",
   "execution_count": 14,
   "id": "7ac05c6d",
   "metadata": {
    "execution": {
     "iopub.execute_input": "2021-09-27T11:10:53.416827Z",
     "iopub.status.busy": "2021-09-27T11:10:53.415496Z",
     "iopub.status.idle": "2021-09-27T11:10:53.690863Z",
     "shell.execute_reply": "2021-09-27T11:10:53.690325Z",
     "shell.execute_reply.started": "2021-09-27T09:45:33.679199Z"
    },
    "papermill": {
     "duration": 0.359684,
     "end_time": "2021-09-27T11:10:53.691130",
     "exception": false,
     "start_time": "2021-09-27T11:10:53.331446",
     "status": "completed"
    },
    "tags": []
   },
   "outputs": [
    {
     "data": {
      "text/plain": [
       "'It looks like normal distributed.'"
      ]
     },
     "execution_count": 14,
     "metadata": {},
     "output_type": "execute_result"
    },
    {
     "data": {
      "image/png": "[encoded data removed]",
      "text/plain": [
       "<Figure size 432x288 with 1 Axes>"
      ]
     },
     "metadata": {
      "needs_background": "light"
     },
     "output_type": "display_data"
    }
   ],
   "source": [
    "data['LoanAmount'].hist(bins=20)\n",
    "'''It looks like normal distributed.'''"
   ]
  },
  {
   "cell_type": "code",
   "execution_count": 15,
   "id": "68fd1558",
   "metadata": {
    "execution": {
     "iopub.execute_input": "2021-09-27T11:10:53.827171Z",
     "iopub.status.busy": "2021-09-27T11:10:53.826436Z",
     "iopub.status.idle": "2021-09-27T11:10:54.070073Z",
     "shell.execute_reply": "2021-09-27T11:10:54.070664Z",
     "shell.execute_reply.started": "2021-09-27T09:45:34.629831Z"
    },
    "papermill": {
     "duration": 0.325002,
     "end_time": "2021-09-27T11:10:54.070957",
     "exception": false,
     "start_time": "2021-09-27T11:10:53.745955",
     "status": "completed"
    },
    "tags": []
   },
   "outputs": [
    {
     "data": {
      "text/plain": [
       "'Not showing any ditribution, hard to say any thing.'"
      ]
     },
     "execution_count": 15,
     "metadata": {},
     "output_type": "execute_result"
    },
    {
     "data": {
      "image/png": "[encoded data removed]",
      "text/plain": [
       "<Figure size 432x288 with 1 Axes>"
      ]
     },
     "metadata": {
      "needs_background": "light"
     },
     "output_type": "display_data"
    }
   ],
   "source": [
    "data['Loan_Amount_Term'].hist(bins=20)\n",
    "'''Not showing any ditribution, hard to say any thing.'''"
   ]
  },
  {
   "cell_type": "markdown",
   "id": "e72c948b",
   "metadata": {
    "papermill": {
     "duration": 0.055653,
     "end_time": "2021-09-27T11:10:54.183278",
     "exception": false,
     "start_time": "2021-09-27T11:10:54.127625",
     "status": "completed"
    },
    "tags": []
   },
   "source": [
    "**Preprocessing of Data**\n",
    "\n",
    "As, we see there are missing values in our data and some columns needs to normalized.\n",
    "\n",
    "*handle missing values*\n"
   ]
  },
  {
   "cell_type": "code",
   "execution_count": 16,
   "id": "e22f5df3",
   "metadata": {
    "execution": {
     "iopub.execute_input": "2021-09-27T11:10:54.299374Z",
     "iopub.status.busy": "2021-09-27T11:10:54.298309Z",
     "iopub.status.idle": "2021-09-27T11:10:54.308097Z",
     "shell.execute_reply": "2021-09-27T11:10:54.307535Z",
     "shell.execute_reply.started": "2021-09-27T09:45:36.918978Z"
    },
    "papermill": {
     "duration": 0.068861,
     "end_time": "2021-09-27T11:10:54.308287",
     "exception": false,
     "start_time": "2021-09-27T11:10:54.239426",
     "status": "completed"
    },
    "tags": []
   },
   "outputs": [
    {
     "data": {
      "text/plain": [
       "Loan_ID               0\n",
       "Gender               13\n",
       "Married               3\n",
       "Dependents           15\n",
       "Education             0\n",
       "Self_Employed        32\n",
       "ApplicantIncome       0\n",
       "CoapplicantIncome     0\n",
       "LoanAmount           22\n",
       "Loan_Amount_Term     14\n",
       "Credit_History       50\n",
       "Property_Area         0\n",
       "Loan_Status           0\n",
       "dtype: int64"
      ]
     },
     "execution_count": 16,
     "metadata": {},
     "output_type": "execute_result"
    }
   ],
   "source": [
    "#tell how  many entries are missing in each columns\n",
    "data.isnull().sum()"
   ]
  },
  {
   "cell_type": "code",
   "execution_count": 17,
   "id": "5d3c2cd2",
   "metadata": {
    "execution": {
     "iopub.execute_input": "2021-09-27T11:10:54.435641Z",
     "iopub.status.busy": "2021-09-27T11:10:54.434856Z",
     "iopub.status.idle": "2021-09-27T11:10:54.437355Z",
     "shell.execute_reply": "2021-09-27T11:10:54.437829Z",
     "shell.execute_reply.started": "2021-09-27T09:45:37.830012Z"
    },
    "papermill": {
     "duration": 0.073024,
     "end_time": "2021-09-27T11:10:54.438050",
     "exception": false,
     "start_time": "2021-09-27T11:10:54.365026",
     "status": "completed"
    },
    "tags": []
   },
   "outputs": [],
   "source": [
    "#for categorical columns use to fillup the values using mode \n",
    "data['Gender']= data['Gender'].fillna(data['Gender'].mode()[0])\n",
    "data['Married']= data['Married'].fillna(data['Married'].mode()[0])\n",
    "data['Dependents']= data['Dependents'].fillna(data['Dependents'].mode()[0])\n",
    "data['Self_Employed']= data['Self_Employed'].fillna(data['Self_Employed'].mode()[0])"
   ]
  },
  {
   "cell_type": "code",
   "execution_count": 18,
   "id": "0ce84a5b",
   "metadata": {
    "execution": {
     "iopub.execute_input": "2021-09-27T11:10:54.564047Z",
     "iopub.status.busy": "2021-09-27T11:10:54.562940Z",
     "iopub.status.idle": "2021-09-27T11:10:54.566553Z",
     "shell.execute_reply": "2021-09-27T11:10:54.565811Z",
     "shell.execute_reply.started": "2021-09-27T09:45:44.137361Z"
    },
    "papermill": {
     "duration": 0.072065,
     "end_time": "2021-09-27T11:10:54.566720",
     "exception": false,
     "start_time": "2021-09-27T11:10:54.494655",
     "status": "completed"
    },
    "tags": []
   },
   "outputs": [],
   "source": [
    "'''numerical columns has not normally distributed. So, median is better for imputation.'''\n",
    "#for categorical columns use to fillup the values using median \n",
    "data['LoanAmount']=data['LoanAmount'].fillna(data['LoanAmount'].median())\n",
    "data['Loan_Amount_Term']=data['Loan_Amount_Term'].fillna(data['Loan_Amount_Term'].median())\n",
    "#Credit_History has only two unique values 0 and 1, it's better to use mode for imputation.\n",
    "data['Credit_History']=data['Credit_History'].fillna(data['Credit_History'].mode()[0])"
   ]
  },
  {
   "cell_type": "code",
   "execution_count": 19,
   "id": "9900eeb3",
   "metadata": {
    "execution": {
     "iopub.execute_input": "2021-09-27T11:10:54.687767Z",
     "iopub.status.busy": "2021-09-27T11:10:54.682550Z",
     "iopub.status.idle": "2021-09-27T11:10:54.691725Z",
     "shell.execute_reply": "2021-09-27T11:10:54.691060Z",
     "shell.execute_reply.started": "2021-09-27T09:45:45.046189Z"
    },
    "papermill": {
     "duration": 0.068547,
     "end_time": "2021-09-27T11:10:54.691884",
     "exception": false,
     "start_time": "2021-09-27T11:10:54.623337",
     "status": "completed"
    },
    "tags": []
   },
   "outputs": [
    {
     "data": {
      "text/plain": [
       "'See! all the missing values are filled successfully'"
      ]
     },
     "execution_count": 19,
     "metadata": {},
     "output_type": "execute_result"
    }
   ],
   "source": [
    "data.isnull().sum()\n",
    "'''See! all the missing values are filled successfully'''"
   ]
  },
  {
   "cell_type": "markdown",
   "id": "49353b54",
   "metadata": {
    "papermill": {
     "duration": 0.0562,
     "end_time": "2021-09-27T11:10:54.804743",
     "exception": false,
     "start_time": "2021-09-27T11:10:54.748543",
     "status": "completed"
    },
    "tags": []
   },
   "source": [
    "*handle skewed numerical columns*"
   ]
  },
  {
   "cell_type": "code",
   "execution_count": 20,
   "id": "c951e773",
   "metadata": {
    "execution": {
     "iopub.execute_input": "2021-09-27T11:10:54.922062Z",
     "iopub.status.busy": "2021-09-27T11:10:54.920323Z",
     "iopub.status.idle": "2021-09-27T11:10:54.927139Z",
     "shell.execute_reply": "2021-09-27T11:10:54.926432Z",
     "shell.execute_reply.started": "2021-09-27T09:45:46.190439Z"
    },
    "papermill": {
     "duration": 0.065989,
     "end_time": "2021-09-27T11:10:54.927318",
     "exception": false,
     "start_time": "2021-09-27T11:10:54.861329",
     "status": "completed"
    },
    "tags": []
   },
   "outputs": [],
   "source": [
    "#import libraries\n",
    "import numpy as np"
   ]
  },
  {
   "cell_type": "code",
   "execution_count": 21,
   "id": "d596d2bb",
   "metadata": {
    "execution": {
     "iopub.execute_input": "2021-09-27T11:10:55.080469Z",
     "iopub.status.busy": "2021-09-27T11:10:55.074002Z",
     "iopub.status.idle": "2021-09-27T11:10:55.351659Z",
     "shell.execute_reply": "2021-09-27T11:10:55.351014Z",
     "shell.execute_reply.started": "2021-09-27T09:45:46.710643Z"
    },
    "papermill": {
     "duration": 0.366968,
     "end_time": "2021-09-27T11:10:55.351819",
     "exception": false,
     "start_time": "2021-09-27T11:10:54.984851",
     "status": "completed"
    },
    "tags": []
   },
   "outputs": [
    {
     "data": {
      "text/plain": [
       "'ApplicantIncome before normalization'"
      ]
     },
     "execution_count": 21,
     "metadata": {},
     "output_type": "execute_result"
    },
    {
     "data": {
      "image/png": "[encoded data removed]",
      "text/plain": [
       "<Figure size 432x288 with 1 Axes>"
      ]
     },
     "metadata": {
      "needs_background": "light"
     },
     "output_type": "display_data"
    }
   ],
   "source": [
    "data['ApplicantIncome'].hist(bins=20)\n",
    "'''ApplicantIncome before normalization'''"
   ]
  },
  {
   "cell_type": "code",
   "execution_count": 22,
   "id": "392adade",
   "metadata": {
    "execution": {
     "iopub.execute_input": "2021-09-27T11:10:55.477682Z",
     "iopub.status.busy": "2021-09-27T11:10:55.476974Z",
     "iopub.status.idle": "2021-09-27T11:10:55.480636Z",
     "shell.execute_reply": "2021-09-27T11:10:55.479969Z",
     "shell.execute_reply.started": "2021-09-27T09:45:47.229450Z"
    },
    "papermill": {
     "duration": 0.068962,
     "end_time": "2021-09-27T11:10:55.480791",
     "exception": false,
     "start_time": "2021-09-27T11:10:55.411829",
     "status": "completed"
    },
    "tags": []
   },
   "outputs": [],
   "source": [
    "#apply normalization using log\n",
    "data['ApplicantIncome_log']= np.log(data['ApplicantIncome'])"
   ]
  },
  {
   "cell_type": "code",
   "execution_count": 23,
   "id": "1cba0f19",
   "metadata": {
    "execution": {
     "iopub.execute_input": "2021-09-27T11:10:55.621666Z",
     "iopub.status.busy": "2021-09-27T11:10:55.619153Z",
     "iopub.status.idle": "2021-09-27T11:10:55.876725Z",
     "shell.execute_reply": "2021-09-27T11:10:55.877332Z",
     "shell.execute_reply.started": "2021-09-27T09:45:47.711104Z"
    },
    "papermill": {
     "duration": 0.339126,
     "end_time": "2021-09-27T11:10:55.877543",
     "exception": false,
     "start_time": "2021-09-27T11:10:55.538417",
     "status": "completed"
    },
    "tags": []
   },
   "outputs": [
    {
     "data": {
      "text/plain": [
       "'ApplicantIncome_log before normalization'"
      ]
     },
     "execution_count": 23,
     "metadata": {},
     "output_type": "execute_result"
    },
    {
     "data": {
      "image/png": "[encoded data removed]",
      "text/plain": [
       "<Figure size 432x288 with 1 Axes>"
      ]
     },
     "metadata": {
      "needs_background": "light"
     },
     "output_type": "display_data"
    }
   ],
   "source": [
    "data['ApplicantIncome_log'].hist(bins=20)\n",
    "'''ApplicantIncome_log before normalization'''"
   ]
  },
  {
   "cell_type": "code",
   "execution_count": 24,
   "id": "8a8283e7",
   "metadata": {
    "execution": {
     "iopub.execute_input": "2021-09-27T11:10:56.029340Z",
     "iopub.status.busy": "2021-09-27T11:10:56.028045Z",
     "iopub.status.idle": "2021-09-27T11:10:56.254218Z",
     "shell.execute_reply": "2021-09-27T11:10:56.254675Z",
     "shell.execute_reply.started": "2021-09-27T09:45:48.248968Z"
    },
    "papermill": {
     "duration": 0.31837,
     "end_time": "2021-09-27T11:10:56.254888",
     "exception": false,
     "start_time": "2021-09-27T11:10:55.936518",
     "status": "completed"
    },
    "tags": []
   },
   "outputs": [
    {
     "data": {
      "text/plain": [
       "<AxesSubplot:>"
      ]
     },
     "execution_count": 24,
     "metadata": {},
     "output_type": "execute_result"
    },
    {
     "data": {
      "image/png": "[encoded data removed]",
      "text/plain": [
       "<Figure size 432x288 with 1 Axes>"
      ]
     },
     "metadata": {
      "needs_background": "light"
     },
     "output_type": "display_data"
    }
   ],
   "source": [
    "data['CoapplicantIncome'].hist(bins=20)\n",
    "#data['CoapplicantIncome_log']= np.log(data['CoapplicantIncome'])\n",
    "#data['CoapplicantIncome_log'].hist(bins=20)"
   ]
  },
  {
   "cell_type": "code",
   "execution_count": 25,
   "id": "d6f1a622",
   "metadata": {
    "execution": {
     "iopub.execute_input": "2021-09-27T11:10:56.404474Z",
     "iopub.status.busy": "2021-09-27T11:10:56.402491Z",
     "iopub.status.idle": "2021-09-27T11:10:56.665033Z",
     "shell.execute_reply": "2021-09-27T11:10:56.665571Z",
     "shell.execute_reply.started": "2021-09-27T09:45:48.638372Z"
    },
    "papermill": {
     "duration": 0.350778,
     "end_time": "2021-09-27T11:10:56.665791",
     "exception": false,
     "start_time": "2021-09-27T11:10:56.315013",
     "status": "completed"
    },
    "tags": []
   },
   "outputs": [
    {
     "data": {
      "image/png": "[encoded data removed]",
      "text/plain": [
       "<Figure size 432x288 with 1 Axes>"
      ]
     },
     "metadata": {
      "needs_background": "light"
     },
     "output_type": "display_data"
    }
   ],
   "source": [
    "# create a new variable of totalIncome \n",
    "data['totalIncome']= data['CoapplicantIncome'] + data['ApplicantIncome']\n",
    "data['totalIncome'].hist(bins=20)\n",
    "'''totalIncome before normalization'''\n",
    "#normalize it\n",
    "data['totalIncome_log']= np.log(data['totalIncome'])"
   ]
  },
  {
   "cell_type": "code",
   "execution_count": 26,
   "id": "fc48290b",
   "metadata": {
    "execution": {
     "iopub.execute_input": "2021-09-27T11:10:56.820336Z",
     "iopub.status.busy": "2021-09-27T11:10:56.819250Z",
     "iopub.status.idle": "2021-09-27T11:10:57.077052Z",
     "shell.execute_reply": "2021-09-27T11:10:57.076477Z",
     "shell.execute_reply.started": "2021-09-27T09:45:49.222234Z"
    },
    "papermill": {
     "duration": 0.349409,
     "end_time": "2021-09-27T11:10:57.077238",
     "exception": false,
     "start_time": "2021-09-27T11:10:56.727829",
     "status": "completed"
    },
    "tags": []
   },
   "outputs": [
    {
     "data": {
      "text/plain": [
       "'totalIncome after normalization'"
      ]
     },
     "execution_count": 26,
     "metadata": {},
     "output_type": "execute_result"
    },
    {
     "data": {
      "image/png": "[encoded data removed]",
      "text/plain": [
       "<Figure size 432x288 with 1 Axes>"
      ]
     },
     "metadata": {
      "needs_background": "light"
     },
     "output_type": "display_data"
    }
   ],
   "source": [
    "data['totalIncome_log'].hist(bins=20)\n",
    "'''totalIncome after normalization'''"
   ]
  },
  {
   "cell_type": "code",
   "execution_count": 27,
   "id": "15513ec2",
   "metadata": {
    "execution": {
     "iopub.execute_input": "2021-09-27T11:10:57.207182Z",
     "iopub.status.busy": "2021-09-27T11:10:57.206268Z",
     "iopub.status.idle": "2021-09-27T11:10:57.625693Z",
     "shell.execute_reply": "2021-09-27T11:10:57.625142Z",
     "shell.execute_reply.started": "2021-09-27T09:45:49.598460Z"
    },
    "papermill": {
     "duration": 0.486994,
     "end_time": "2021-09-27T11:10:57.625851",
     "exception": false,
     "start_time": "2021-09-27T11:10:57.138857",
     "status": "completed"
    },
    "tags": []
   },
   "outputs": [
    {
     "data": {
      "text/plain": [
       "'LoanAmount Before Normalization'"
      ]
     },
     "execution_count": 27,
     "metadata": {},
     "output_type": "execute_result"
    },
    {
     "data": {
      "image/png": "[encoded data removed]",
      "text/plain": [
       "<Figure size 432x288 with 1 Axes>"
      ]
     },
     "metadata": {
      "needs_background": "light"
     },
     "output_type": "display_data"
    }
   ],
   "source": [
    "data['LoanAmount'].hist(bins=20)\n",
    "'''LoanAmount Before Normalization'''"
   ]
  },
  {
   "cell_type": "code",
   "execution_count": 28,
   "id": "0dbfdfb4",
   "metadata": {
    "execution": {
     "iopub.execute_input": "2021-09-27T11:10:57.755124Z",
     "iopub.status.busy": "2021-09-27T11:10:57.754430Z",
     "iopub.status.idle": "2021-09-27T11:10:57.760486Z",
     "shell.execute_reply": "2021-09-27T11:10:57.759952Z",
     "shell.execute_reply.started": "2021-09-27T09:45:50.038228Z"
    },
    "papermill": {
     "duration": 0.072111,
     "end_time": "2021-09-27T11:10:57.760649",
     "exception": false,
     "start_time": "2021-09-27T11:10:57.688538",
     "status": "completed"
    },
    "tags": []
   },
   "outputs": [],
   "source": [
    "data['LoanAmount_log']= np.log(data['LoanAmount'])"
   ]
  },
  {
   "cell_type": "code",
   "execution_count": 29,
   "id": "2e06a85c",
   "metadata": {
    "execution": {
     "iopub.execute_input": "2021-09-27T11:10:57.916745Z",
     "iopub.status.busy": "2021-09-27T11:10:57.914767Z",
     "iopub.status.idle": "2021-09-27T11:10:58.156763Z",
     "shell.execute_reply": "2021-09-27T11:10:58.156158Z",
     "shell.execute_reply.started": "2021-09-27T09:45:50.637843Z"
    },
    "papermill": {
     "duration": 0.33346,
     "end_time": "2021-09-27T11:10:58.156942",
     "exception": false,
     "start_time": "2021-09-27T11:10:57.823482",
     "status": "completed"
    },
    "tags": []
   },
   "outputs": [
    {
     "data": {
      "text/plain": [
       "'LoanAmount Before Normalization'"
      ]
     },
     "execution_count": 29,
     "metadata": {},
     "output_type": "execute_result"
    },
    {
     "data": {
      "image/png": "[encoded data removed]",
      "text/plain": [
       "<Figure size 432x288 with 1 Axes>"
      ]
     },
     "metadata": {
      "needs_background": "light"
     },
     "output_type": "display_data"
    }
   ],
   "source": [
    "data['LoanAmount_log'].hist(bins=20)\n",
    "'''LoanAmount Before Normalization'''"
   ]
  },
  {
   "cell_type": "code",
   "execution_count": 30,
   "id": "ee0b276e",
   "metadata": {
    "execution": {
     "iopub.execute_input": "2021-09-27T11:10:58.288417Z",
     "iopub.status.busy": "2021-09-27T11:10:58.287715Z",
     "iopub.status.idle": "2021-09-27T11:10:58.539026Z",
     "shell.execute_reply": "2021-09-27T11:10:58.539555Z",
     "shell.execute_reply.started": "2021-09-27T09:45:51.126196Z"
    },
    "papermill": {
     "duration": 0.318904,
     "end_time": "2021-09-27T11:10:58.539773",
     "exception": false,
     "start_time": "2021-09-27T11:10:58.220869",
     "status": "completed"
    },
    "tags": []
   },
   "outputs": [
    {
     "data": {
      "text/plain": [
       "'Loan_Amount_Term Before Normalization'"
      ]
     },
     "execution_count": 30,
     "metadata": {},
     "output_type": "execute_result"
    },
    {
     "data": {
      "image/png": "[encoded data removed]",
      "text/plain": [
       "<Figure size 432x288 with 1 Axes>"
      ]
     },
     "metadata": {
      "needs_background": "light"
     },
     "output_type": "display_data"
    }
   ],
   "source": [
    "data['Loan_Amount_Term'].hist(bins=20)\n",
    "'''Loan_Amount_Term Before Normalization'''"
   ]
  },
  {
   "cell_type": "code",
   "execution_count": 31,
   "id": "ee5d96c1",
   "metadata": {
    "execution": {
     "iopub.execute_input": "2021-09-27T11:10:58.672641Z",
     "iopub.status.busy": "2021-09-27T11:10:58.671950Z",
     "iopub.status.idle": "2021-09-27T11:10:58.676692Z",
     "shell.execute_reply": "2021-09-27T11:10:58.677130Z",
     "shell.execute_reply.started": "2021-09-27T09:45:51.661118Z"
    },
    "papermill": {
     "duration": 0.073137,
     "end_time": "2021-09-27T11:10:58.677355",
     "exception": false,
     "start_time": "2021-09-27T11:10:58.604218",
     "status": "completed"
    },
    "tags": []
   },
   "outputs": [],
   "source": [
    "data['Loan_Amount_Term_log']= np.log(data['Loan_Amount_Term'])"
   ]
  },
  {
   "cell_type": "code",
   "execution_count": 32,
   "id": "86d9931c",
   "metadata": {
    "execution": {
     "iopub.execute_input": "2021-09-27T11:10:58.813084Z",
     "iopub.status.busy": "2021-09-27T11:10:58.812324Z",
     "iopub.status.idle": "2021-09-27T11:10:59.084053Z",
     "shell.execute_reply": "2021-09-27T11:10:59.084555Z",
     "shell.execute_reply.started": "2021-09-27T09:45:52.230418Z"
    },
    "papermill": {
     "duration": 0.343391,
     "end_time": "2021-09-27T11:10:59.084790",
     "exception": false,
     "start_time": "2021-09-27T11:10:58.741399",
     "status": "completed"
    },
    "tags": []
   },
   "outputs": [
    {
     "data": {
      "text/plain": [
       "'Loan_Amount_Term Before Normalization'"
      ]
     },
     "execution_count": 32,
     "metadata": {},
     "output_type": "execute_result"
    },
    {
     "data": {
      "image/png": "[encoded data removed]",
      "text/plain": [
       "<Figure size 432x288 with 1 Axes>"
      ]
     },
     "metadata": {
      "needs_background": "light"
     },
     "output_type": "display_data"
    }
   ],
   "source": [
    "data['Loan_Amount_Term_log'].hist(bins=20)\n",
    "'''Loan_Amount_Term Before Normalization'''"
   ]
  },
  {
   "cell_type": "code",
   "execution_count": 33,
   "id": "8a5baab8",
   "metadata": {
    "execution": {
     "iopub.execute_input": "2021-09-27T11:10:59.223754Z",
     "iopub.status.busy": "2021-09-27T11:10:59.219459Z",
     "iopub.status.idle": "2021-09-27T11:10:59.267963Z",
     "shell.execute_reply": "2021-09-27T11:10:59.267281Z",
     "shell.execute_reply.started": "2021-09-27T09:45:52.830258Z"
    },
    "papermill": {
     "duration": 0.118182,
     "end_time": "2021-09-27T11:10:59.268119",
     "exception": false,
     "start_time": "2021-09-27T11:10:59.149937",
     "status": "completed"
    },
    "tags": []
   },
   "outputs": [
    {
     "data": {
      "text/html": [
       "<div>\n",
       "<style scoped>\n",
       "    .dataframe tbody tr th:only-of-type {\n",
       "        vertical-align: middle;\n",
       "    }\n",
       "\n",
       "    .dataframe tbody tr th {\n",
       "        vertical-align: top;\n",
       "    }\n",
       "\n",
       "    .dataframe thead th {\n",
       "        text-align: right;\n",
       "    }\n",
       "</style>\n",
       "<table border=\"1\" class=\"dataframe\">\n",
       "  <thead>\n",
       "    <tr style=\"text-align: right;\">\n",
       "      <th></th>\n",
       "      <th>ApplicantIncome</th>\n",
       "      <th>CoapplicantIncome</th>\n",
       "      <th>LoanAmount</th>\n",
       "      <th>Loan_Amount_Term</th>\n",
       "      <th>Credit_History</th>\n",
       "      <th>ApplicantIncome_log</th>\n",
       "      <th>totalIncome</th>\n",
       "      <th>totalIncome_log</th>\n",
       "      <th>LoanAmount_log</th>\n",
       "      <th>Loan_Amount_Term_log</th>\n",
       "    </tr>\n",
       "  </thead>\n",
       "  <tbody>\n",
       "    <tr>\n",
       "      <th>count</th>\n",
       "      <td>614.000000</td>\n",
       "      <td>614.000000</td>\n",
       "      <td>614.000000</td>\n",
       "      <td>614.000000</td>\n",
       "      <td>614.000000</td>\n",
       "      <td>614.000000</td>\n",
       "      <td>614.000000</td>\n",
       "      <td>614.000000</td>\n",
       "      <td>614.000000</td>\n",
       "      <td>614.000000</td>\n",
       "    </tr>\n",
       "    <tr>\n",
       "      <th>mean</th>\n",
       "      <td>5403.459283</td>\n",
       "      <td>1621.245798</td>\n",
       "      <td>145.752443</td>\n",
       "      <td>342.410423</td>\n",
       "      <td>0.855049</td>\n",
       "      <td>8.341213</td>\n",
       "      <td>7024.705081</td>\n",
       "      <td>8.669414</td>\n",
       "      <td>4.857250</td>\n",
       "      <td>5.803234</td>\n",
       "    </tr>\n",
       "    <tr>\n",
       "      <th>std</th>\n",
       "      <td>6109.041673</td>\n",
       "      <td>2926.248369</td>\n",
       "      <td>84.107233</td>\n",
       "      <td>64.428629</td>\n",
       "      <td>0.352339</td>\n",
       "      <td>0.645263</td>\n",
       "      <td>6458.663872</td>\n",
       "      <td>0.545102</td>\n",
       "      <td>0.495996</td>\n",
       "      <td>0.312699</td>\n",
       "    </tr>\n",
       "    <tr>\n",
       "      <th>min</th>\n",
       "      <td>150.000000</td>\n",
       "      <td>0.000000</td>\n",
       "      <td>9.000000</td>\n",
       "      <td>12.000000</td>\n",
       "      <td>0.000000</td>\n",
       "      <td>5.010635</td>\n",
       "      <td>1442.000000</td>\n",
       "      <td>7.273786</td>\n",
       "      <td>2.197225</td>\n",
       "      <td>2.484907</td>\n",
       "    </tr>\n",
       "    <tr>\n",
       "      <th>25%</th>\n",
       "      <td>2877.500000</td>\n",
       "      <td>0.000000</td>\n",
       "      <td>100.250000</td>\n",
       "      <td>360.000000</td>\n",
       "      <td>1.000000</td>\n",
       "      <td>7.964677</td>\n",
       "      <td>4166.000000</td>\n",
       "      <td>8.334712</td>\n",
       "      <td>4.607658</td>\n",
       "      <td>5.886104</td>\n",
       "    </tr>\n",
       "    <tr>\n",
       "      <th>50%</th>\n",
       "      <td>3812.500000</td>\n",
       "      <td>1188.500000</td>\n",
       "      <td>128.000000</td>\n",
       "      <td>360.000000</td>\n",
       "      <td>1.000000</td>\n",
       "      <td>8.246040</td>\n",
       "      <td>5416.500000</td>\n",
       "      <td>8.597205</td>\n",
       "      <td>4.852030</td>\n",
       "      <td>5.886104</td>\n",
       "    </tr>\n",
       "    <tr>\n",
       "      <th>75%</th>\n",
       "      <td>5795.000000</td>\n",
       "      <td>2297.250000</td>\n",
       "      <td>164.750000</td>\n",
       "      <td>360.000000</td>\n",
       "      <td>1.000000</td>\n",
       "      <td>8.664750</td>\n",
       "      <td>7521.750000</td>\n",
       "      <td>8.925549</td>\n",
       "      <td>5.104426</td>\n",
       "      <td>5.886104</td>\n",
       "    </tr>\n",
       "    <tr>\n",
       "      <th>max</th>\n",
       "      <td>81000.000000</td>\n",
       "      <td>41667.000000</td>\n",
       "      <td>700.000000</td>\n",
       "      <td>480.000000</td>\n",
       "      <td>1.000000</td>\n",
       "      <td>11.302204</td>\n",
       "      <td>81000.000000</td>\n",
       "      <td>11.302204</td>\n",
       "      <td>6.551080</td>\n",
       "      <td>6.173786</td>\n",
       "    </tr>\n",
       "  </tbody>\n",
       "</table>\n",
       "</div>"
      ],
      "text/plain": [
       "       ApplicantIncome  CoapplicantIncome  LoanAmount  Loan_Amount_Term  \\\n",
       "count       614.000000         614.000000  614.000000        614.000000   \n",
       "mean       5403.459283        1621.245798  145.752443        342.410423   \n",
       "std        6109.041673        2926.248369   84.107233         64.428629   \n",
       "min         150.000000           0.000000    9.000000         12.000000   \n",
       "25%        2877.500000           0.000000  100.250000        360.000000   \n",
       "50%        3812.500000        1188.500000  128.000000        360.000000   \n",
       "75%        5795.000000        2297.250000  164.750000        360.000000   \n",
       "max       81000.000000       41667.000000  700.000000        480.000000   \n",
       "\n",
       "       Credit_History  ApplicantIncome_log   totalIncome  totalIncome_log  \\\n",
       "count      614.000000           614.000000    614.000000       614.000000   \n",
       "mean         0.855049             8.341213   7024.705081         8.669414   \n",
       "std          0.352339             0.645263   6458.663872         0.545102   \n",
       "min          0.000000             5.010635   1442.000000         7.273786   \n",
       "25%          1.000000             7.964677   4166.000000         8.334712   \n",
       "50%          1.000000             8.246040   5416.500000         8.597205   \n",
       "75%          1.000000             8.664750   7521.750000         8.925549   \n",
       "max          1.000000            11.302204  81000.000000        11.302204   \n",
       "\n",
       "       LoanAmount_log  Loan_Amount_Term_log  \n",
       "count      614.000000            614.000000  \n",
       "mean         4.857250              5.803234  \n",
       "std          0.495996              0.312699  \n",
       "min          2.197225              2.484907  \n",
       "25%          4.607658              5.886104  \n",
       "50%          4.852030              5.886104  \n",
       "75%          5.104426              5.886104  \n",
       "max          6.551080              6.173786  "
      ]
     },
     "execution_count": 33,
     "metadata": {},
     "output_type": "execute_result"
    }
   ],
   "source": [
    "data.describe()"
   ]
  },
  {
   "cell_type": "code",
   "execution_count": 34,
   "id": "bd02f0db",
   "metadata": {
    "execution": {
     "iopub.execute_input": "2021-09-27T11:10:59.405760Z",
     "iopub.status.busy": "2021-09-27T11:10:59.405033Z",
     "iopub.status.idle": "2021-09-27T11:10:59.409454Z",
     "shell.execute_reply": "2021-09-27T11:10:59.410000Z",
     "shell.execute_reply.started": "2021-09-27T09:46:19.030464Z"
    },
    "papermill": {
     "duration": 0.073911,
     "end_time": "2021-09-27T11:10:59.410216",
     "exception": false,
     "start_time": "2021-09-27T11:10:59.336305",
     "status": "completed"
    },
    "tags": []
   },
   "outputs": [
    {
     "data": {
      "text/plain": [
       "(614, 18)"
      ]
     },
     "execution_count": 34,
     "metadata": {},
     "output_type": "execute_result"
    }
   ],
   "source": [
    "data.shape"
   ]
  },
  {
   "cell_type": "markdown",
   "id": "078f217c",
   "metadata": {
    "papermill": {
     "duration": 0.065821,
     "end_time": "2021-09-27T11:10:59.542280",
     "exception": false,
     "start_time": "2021-09-27T11:10:59.476459",
     "status": "completed"
    },
    "tags": []
   },
   "source": [
    "**selection of varaibles and train test split**"
   ]
  },
  {
   "cell_type": "code",
   "execution_count": 35,
   "id": "d688cc2f",
   "metadata": {
    "execution": {
     "iopub.execute_input": "2021-09-27T11:10:59.678374Z",
     "iopub.status.busy": "2021-09-27T11:10:59.677713Z",
     "iopub.status.idle": "2021-09-27T11:10:59.684455Z",
     "shell.execute_reply": "2021-09-27T11:10:59.683926Z",
     "shell.execute_reply.started": "2021-09-27T09:46:00.758326Z"
    },
    "papermill": {
     "duration": 0.076273,
     "end_time": "2021-09-27T11:10:59.684613",
     "exception": false,
     "start_time": "2021-09-27T11:10:59.608340",
     "status": "completed"
    },
    "tags": []
   },
   "outputs": [
    {
     "data": {
      "text/plain": [
       "Index(['Loan_ID', 'Gender', 'Married', 'Dependents', 'Education',\n",
       "       'Self_Employed', 'ApplicantIncome', 'CoapplicantIncome', 'LoanAmount',\n",
       "       'Loan_Amount_Term', 'Credit_History', 'Property_Area', 'Loan_Status',\n",
       "       'ApplicantIncome_log', 'totalIncome', 'totalIncome_log',\n",
       "       'LoanAmount_log', 'Loan_Amount_Term_log'],\n",
       "      dtype='object')"
      ]
     },
     "execution_count": 35,
     "metadata": {},
     "output_type": "execute_result"
    }
   ],
   "source": [
    "data.columns"
   ]
  },
  {
   "cell_type": "code",
   "execution_count": 36,
   "id": "95c9a673",
   "metadata": {
    "execution": {
     "iopub.execute_input": "2021-09-27T11:10:59.821377Z",
     "iopub.status.busy": "2021-09-27T11:10:59.820673Z",
     "iopub.status.idle": "2021-09-27T11:10:59.844090Z",
     "shell.execute_reply": "2021-09-27T11:10:59.843494Z",
     "shell.execute_reply.started": "2021-09-27T09:46:05.438984Z"
    },
    "papermill": {
     "duration": 0.093852,
     "end_time": "2021-09-27T11:10:59.844300",
     "exception": false,
     "start_time": "2021-09-27T11:10:59.750448",
     "status": "completed"
    },
    "tags": []
   },
   "outputs": [
    {
     "data": {
      "text/html": [
       "<div>\n",
       "<style scoped>\n",
       "    .dataframe tbody tr th:only-of-type {\n",
       "        vertical-align: middle;\n",
       "    }\n",
       "\n",
       "    .dataframe tbody tr th {\n",
       "        vertical-align: top;\n",
       "    }\n",
       "\n",
       "    .dataframe thead th {\n",
       "        text-align: right;\n",
       "    }\n",
       "</style>\n",
       "<table border=\"1\" class=\"dataframe\">\n",
       "  <thead>\n",
       "    <tr style=\"text-align: right;\">\n",
       "      <th></th>\n",
       "      <th>Loan_ID</th>\n",
       "      <th>Gender</th>\n",
       "      <th>Married</th>\n",
       "      <th>Dependents</th>\n",
       "      <th>Education</th>\n",
       "      <th>Self_Employed</th>\n",
       "      <th>ApplicantIncome</th>\n",
       "      <th>CoapplicantIncome</th>\n",
       "      <th>LoanAmount</th>\n",
       "      <th>Loan_Amount_Term</th>\n",
       "      <th>Credit_History</th>\n",
       "      <th>Property_Area</th>\n",
       "      <th>Loan_Status</th>\n",
       "      <th>ApplicantIncome_log</th>\n",
       "      <th>totalIncome</th>\n",
       "      <th>totalIncome_log</th>\n",
       "      <th>LoanAmount_log</th>\n",
       "      <th>Loan_Amount_Term_log</th>\n",
       "    </tr>\n",
       "  </thead>\n",
       "  <tbody>\n",
       "    <tr>\n",
       "      <th>0</th>\n",
       "      <td>LP001002</td>\n",
       "      <td>Male</td>\n",
       "      <td>No</td>\n",
       "      <td>0</td>\n",
       "      <td>Graduate</td>\n",
       "      <td>No</td>\n",
       "      <td>5849</td>\n",
       "      <td>0.0</td>\n",
       "      <td>128.0</td>\n",
       "      <td>360.0</td>\n",
       "      <td>1.0</td>\n",
       "      <td>Urban</td>\n",
       "      <td>Y</td>\n",
       "      <td>8.674026</td>\n",
       "      <td>5849.0</td>\n",
       "      <td>8.674026</td>\n",
       "      <td>4.852030</td>\n",
       "      <td>5.886104</td>\n",
       "    </tr>\n",
       "    <tr>\n",
       "      <th>1</th>\n",
       "      <td>LP001003</td>\n",
       "      <td>Male</td>\n",
       "      <td>Yes</td>\n",
       "      <td>1</td>\n",
       "      <td>Graduate</td>\n",
       "      <td>No</td>\n",
       "      <td>4583</td>\n",
       "      <td>1508.0</td>\n",
       "      <td>128.0</td>\n",
       "      <td>360.0</td>\n",
       "      <td>1.0</td>\n",
       "      <td>Rural</td>\n",
       "      <td>N</td>\n",
       "      <td>8.430109</td>\n",
       "      <td>6091.0</td>\n",
       "      <td>8.714568</td>\n",
       "      <td>4.852030</td>\n",
       "      <td>5.886104</td>\n",
       "    </tr>\n",
       "    <tr>\n",
       "      <th>2</th>\n",
       "      <td>LP001005</td>\n",
       "      <td>Male</td>\n",
       "      <td>Yes</td>\n",
       "      <td>0</td>\n",
       "      <td>Graduate</td>\n",
       "      <td>Yes</td>\n",
       "      <td>3000</td>\n",
       "      <td>0.0</td>\n",
       "      <td>66.0</td>\n",
       "      <td>360.0</td>\n",
       "      <td>1.0</td>\n",
       "      <td>Urban</td>\n",
       "      <td>Y</td>\n",
       "      <td>8.006368</td>\n",
       "      <td>3000.0</td>\n",
       "      <td>8.006368</td>\n",
       "      <td>4.189655</td>\n",
       "      <td>5.886104</td>\n",
       "    </tr>\n",
       "    <tr>\n",
       "      <th>3</th>\n",
       "      <td>LP001006</td>\n",
       "      <td>Male</td>\n",
       "      <td>Yes</td>\n",
       "      <td>0</td>\n",
       "      <td>Not Graduate</td>\n",
       "      <td>No</td>\n",
       "      <td>2583</td>\n",
       "      <td>2358.0</td>\n",
       "      <td>120.0</td>\n",
       "      <td>360.0</td>\n",
       "      <td>1.0</td>\n",
       "      <td>Urban</td>\n",
       "      <td>Y</td>\n",
       "      <td>7.856707</td>\n",
       "      <td>4941.0</td>\n",
       "      <td>8.505323</td>\n",
       "      <td>4.787492</td>\n",
       "      <td>5.886104</td>\n",
       "    </tr>\n",
       "    <tr>\n",
       "      <th>4</th>\n",
       "      <td>LP001008</td>\n",
       "      <td>Male</td>\n",
       "      <td>No</td>\n",
       "      <td>0</td>\n",
       "      <td>Graduate</td>\n",
       "      <td>No</td>\n",
       "      <td>6000</td>\n",
       "      <td>0.0</td>\n",
       "      <td>141.0</td>\n",
       "      <td>360.0</td>\n",
       "      <td>1.0</td>\n",
       "      <td>Urban</td>\n",
       "      <td>Y</td>\n",
       "      <td>8.699515</td>\n",
       "      <td>6000.0</td>\n",
       "      <td>8.699515</td>\n",
       "      <td>4.948760</td>\n",
       "      <td>5.886104</td>\n",
       "    </tr>\n",
       "  </tbody>\n",
       "</table>\n",
       "</div>"
      ],
      "text/plain": [
       "    Loan_ID Gender Married Dependents     Education Self_Employed  \\\n",
       "0  LP001002   Male      No          0      Graduate            No   \n",
       "1  LP001003   Male     Yes          1      Graduate            No   \n",
       "2  LP001005   Male     Yes          0      Graduate           Yes   \n",
       "3  LP001006   Male     Yes          0  Not Graduate            No   \n",
       "4  LP001008   Male      No          0      Graduate            No   \n",
       "\n",
       "   ApplicantIncome  CoapplicantIncome  LoanAmount  Loan_Amount_Term  \\\n",
       "0             5849                0.0       128.0             360.0   \n",
       "1             4583             1508.0       128.0             360.0   \n",
       "2             3000                0.0        66.0             360.0   \n",
       "3             2583             2358.0       120.0             360.0   \n",
       "4             6000                0.0       141.0             360.0   \n",
       "\n",
       "   Credit_History Property_Area Loan_Status  ApplicantIncome_log  totalIncome  \\\n",
       "0             1.0         Urban           Y             8.674026       5849.0   \n",
       "1             1.0         Rural           N             8.430109       6091.0   \n",
       "2             1.0         Urban           Y             8.006368       3000.0   \n",
       "3             1.0         Urban           Y             7.856707       4941.0   \n",
       "4             1.0         Urban           Y             8.699515       6000.0   \n",
       "\n",
       "   totalIncome_log  LoanAmount_log  Loan_Amount_Term_log  \n",
       "0         8.674026        4.852030              5.886104  \n",
       "1         8.714568        4.852030              5.886104  \n",
       "2         8.006368        4.189655              5.886104  \n",
       "3         8.505323        4.787492              5.886104  \n",
       "4         8.699515        4.948760              5.886104  "
      ]
     },
     "execution_count": 36,
     "metadata": {},
     "output_type": "execute_result"
    }
   ],
   "source": [
    "data.head()"
   ]
  },
  {
   "cell_type": "code",
   "execution_count": 37,
   "id": "c6f55962",
   "metadata": {
    "execution": {
     "iopub.execute_input": "2021-09-27T11:10:59.984029Z",
     "iopub.status.busy": "2021-09-27T11:10:59.983326Z",
     "iopub.status.idle": "2021-09-27T11:10:59.989364Z",
     "shell.execute_reply": "2021-09-27T11:10:59.988694Z",
     "shell.execute_reply.started": "2021-09-27T10:11:32.195553Z"
    },
    "papermill": {
     "duration": 0.076939,
     "end_time": "2021-09-27T11:10:59.989523",
     "exception": false,
     "start_time": "2021-09-27T11:10:59.912584",
     "status": "completed"
    },
    "tags": []
   },
   "outputs": [],
   "source": [
    "#selection of columns\n",
    "X=data.iloc[:,np.r_[1:6,10:12,13,15:18]]\n",
    "y=data.iloc[:,12]"
   ]
  },
  {
   "cell_type": "code",
   "execution_count": 38,
   "id": "63e7b23f",
   "metadata": {
    "execution": {
     "iopub.execute_input": "2021-09-27T11:11:00.131998Z",
     "iopub.status.busy": "2021-09-27T11:11:00.131324Z",
     "iopub.status.idle": "2021-09-27T11:11:01.189123Z",
     "shell.execute_reply": "2021-09-27T11:11:01.189734Z",
     "shell.execute_reply.started": "2021-09-27T10:11:33.714779Z"
    },
    "papermill": {
     "duration": 1.129591,
     "end_time": "2021-09-27T11:11:01.189956",
     "exception": false,
     "start_time": "2021-09-27T11:11:00.060365",
     "status": "completed"
    },
    "tags": []
   },
   "outputs": [],
   "source": [
    "#train-test-split\n",
    "from sklearn.model_selection import train_test_split\n",
    "X_train, X_test, y_train, y_test = train_test_split(X, y, test_size=0.2,random_state=0)"
   ]
  },
  {
   "cell_type": "code",
   "execution_count": 39,
   "id": "bfc2faff",
   "metadata": {
    "execution": {
     "iopub.execute_input": "2021-09-27T11:11:01.355925Z",
     "iopub.status.busy": "2021-09-27T11:11:01.355032Z",
     "iopub.status.idle": "2021-09-27T11:11:01.359531Z",
     "shell.execute_reply": "2021-09-27T11:11:01.358899Z",
     "shell.execute_reply.started": "2021-09-27T10:11:34.914576Z"
    },
    "papermill": {
     "duration": 0.099329,
     "end_time": "2021-09-27T11:11:01.359696",
     "exception": false,
     "start_time": "2021-09-27T11:11:01.260367",
     "status": "completed"
    },
    "tags": []
   },
   "outputs": [
    {
     "data": {
      "text/html": [
       "<div>\n",
       "<style scoped>\n",
       "    .dataframe tbody tr th:only-of-type {\n",
       "        vertical-align: middle;\n",
       "    }\n",
       "\n",
       "    .dataframe tbody tr th {\n",
       "        vertical-align: top;\n",
       "    }\n",
       "\n",
       "    .dataframe thead th {\n",
       "        text-align: right;\n",
       "    }\n",
       "</style>\n",
       "<table border=\"1\" class=\"dataframe\">\n",
       "  <thead>\n",
       "    <tr style=\"text-align: right;\">\n",
       "      <th></th>\n",
       "      <th>Gender</th>\n",
       "      <th>Married</th>\n",
       "      <th>Dependents</th>\n",
       "      <th>Education</th>\n",
       "      <th>Self_Employed</th>\n",
       "      <th>Credit_History</th>\n",
       "      <th>Property_Area</th>\n",
       "      <th>ApplicantIncome_log</th>\n",
       "      <th>totalIncome_log</th>\n",
       "      <th>LoanAmount_log</th>\n",
       "      <th>Loan_Amount_Term_log</th>\n",
       "    </tr>\n",
       "  </thead>\n",
       "  <tbody>\n",
       "    <tr>\n",
       "      <th>90</th>\n",
       "      <td>Male</td>\n",
       "      <td>Yes</td>\n",
       "      <td>0</td>\n",
       "      <td>Graduate</td>\n",
       "      <td>No</td>\n",
       "      <td>1.0</td>\n",
       "      <td>Semiurban</td>\n",
       "      <td>7.992269</td>\n",
       "      <td>8.675564</td>\n",
       "      <td>4.875197</td>\n",
       "      <td>5.886104</td>\n",
       "    </tr>\n",
       "    <tr>\n",
       "      <th>533</th>\n",
       "      <td>Male</td>\n",
       "      <td>No</td>\n",
       "      <td>1</td>\n",
       "      <td>Graduate</td>\n",
       "      <td>No</td>\n",
       "      <td>1.0</td>\n",
       "      <td>Semiurban</td>\n",
       "      <td>9.328123</td>\n",
       "      <td>9.328123</td>\n",
       "      <td>5.278115</td>\n",
       "      <td>5.886104</td>\n",
       "    </tr>\n",
       "    <tr>\n",
       "      <th>452</th>\n",
       "      <td>Male</td>\n",
       "      <td>Yes</td>\n",
       "      <td>0</td>\n",
       "      <td>Graduate</td>\n",
       "      <td>No</td>\n",
       "      <td>0.0</td>\n",
       "      <td>Rural</td>\n",
       "      <td>8.280964</td>\n",
       "      <td>8.644883</td>\n",
       "      <td>5.003946</td>\n",
       "      <td>5.886104</td>\n",
       "    </tr>\n",
       "    <tr>\n",
       "      <th>355</th>\n",
       "      <td>Female</td>\n",
       "      <td>No</td>\n",
       "      <td>0</td>\n",
       "      <td>Graduate</td>\n",
       "      <td>No</td>\n",
       "      <td>1.0</td>\n",
       "      <td>Urban</td>\n",
       "      <td>8.246172</td>\n",
       "      <td>8.246172</td>\n",
       "      <td>4.753590</td>\n",
       "      <td>5.192957</td>\n",
       "    </tr>\n",
       "    <tr>\n",
       "      <th>266</th>\n",
       "      <td>Male</td>\n",
       "      <td>Yes</td>\n",
       "      <td>2</td>\n",
       "      <td>Graduate</td>\n",
       "      <td>No</td>\n",
       "      <td>1.0</td>\n",
       "      <td>Semiurban</td>\n",
       "      <td>8.457018</td>\n",
       "      <td>8.715224</td>\n",
       "      <td>5.010635</td>\n",
       "      <td>5.886104</td>\n",
       "    </tr>\n",
       "    <tr>\n",
       "      <th>...</th>\n",
       "      <td>...</td>\n",
       "      <td>...</td>\n",
       "      <td>...</td>\n",
       "      <td>...</td>\n",
       "      <td>...</td>\n",
       "      <td>...</td>\n",
       "      <td>...</td>\n",
       "      <td>...</td>\n",
       "      <td>...</td>\n",
       "      <td>...</td>\n",
       "      <td>...</td>\n",
       "    </tr>\n",
       "    <tr>\n",
       "      <th>277</th>\n",
       "      <td>Male</td>\n",
       "      <td>Yes</td>\n",
       "      <td>0</td>\n",
       "      <td>Graduate</td>\n",
       "      <td>No</td>\n",
       "      <td>1.0</td>\n",
       "      <td>Urban</td>\n",
       "      <td>8.040125</td>\n",
       "      <td>8.390041</td>\n",
       "      <td>4.382027</td>\n",
       "      <td>5.886104</td>\n",
       "    </tr>\n",
       "    <tr>\n",
       "      <th>9</th>\n",
       "      <td>Male</td>\n",
       "      <td>Yes</td>\n",
       "      <td>1</td>\n",
       "      <td>Graduate</td>\n",
       "      <td>No</td>\n",
       "      <td>1.0</td>\n",
       "      <td>Semiurban</td>\n",
       "      <td>9.460398</td>\n",
       "      <td>10.077819</td>\n",
       "      <td>5.855072</td>\n",
       "      <td>5.886104</td>\n",
       "    </tr>\n",
       "    <tr>\n",
       "      <th>359</th>\n",
       "      <td>Male</td>\n",
       "      <td>Yes</td>\n",
       "      <td>3+</td>\n",
       "      <td>Graduate</td>\n",
       "      <td>No</td>\n",
       "      <td>1.0</td>\n",
       "      <td>Semiurban</td>\n",
       "      <td>8.550048</td>\n",
       "      <td>9.028099</td>\n",
       "      <td>5.298317</td>\n",
       "      <td>5.886104</td>\n",
       "    </tr>\n",
       "    <tr>\n",
       "      <th>192</th>\n",
       "      <td>Male</td>\n",
       "      <td>Yes</td>\n",
       "      <td>0</td>\n",
       "      <td>Not Graduate</td>\n",
       "      <td>No</td>\n",
       "      <td>1.0</td>\n",
       "      <td>Urban</td>\n",
       "      <td>8.705000</td>\n",
       "      <td>8.705000</td>\n",
       "      <td>5.075174</td>\n",
       "      <td>5.886104</td>\n",
       "    </tr>\n",
       "    <tr>\n",
       "      <th>559</th>\n",
       "      <td>Female</td>\n",
       "      <td>Yes</td>\n",
       "      <td>0</td>\n",
       "      <td>Graduate</td>\n",
       "      <td>No</td>\n",
       "      <td>1.0</td>\n",
       "      <td>Semiurban</td>\n",
       "      <td>8.338067</td>\n",
       "      <td>8.777401</td>\n",
       "      <td>5.204007</td>\n",
       "      <td>5.886104</td>\n",
       "    </tr>\n",
       "  </tbody>\n",
       "</table>\n",
       "<p>491 rows × 11 columns</p>\n",
       "</div>"
      ],
      "text/plain": [
       "     Gender Married Dependents     Education Self_Employed  Credit_History  \\\n",
       "90     Male     Yes          0      Graduate            No             1.0   \n",
       "533    Male      No          1      Graduate            No             1.0   \n",
       "452    Male     Yes          0      Graduate            No             0.0   \n",
       "355  Female      No          0      Graduate            No             1.0   \n",
       "266    Male     Yes          2      Graduate            No             1.0   \n",
       "..      ...     ...        ...           ...           ...             ...   \n",
       "277    Male     Yes          0      Graduate            No             1.0   \n",
       "9      Male     Yes          1      Graduate            No             1.0   \n",
       "359    Male     Yes         3+      Graduate            No             1.0   \n",
       "192    Male     Yes          0  Not Graduate            No             1.0   \n",
       "559  Female     Yes          0      Graduate            No             1.0   \n",
       "\n",
       "    Property_Area  ApplicantIncome_log  totalIncome_log  LoanAmount_log  \\\n",
       "90      Semiurban             7.992269         8.675564        4.875197   \n",
       "533     Semiurban             9.328123         9.328123        5.278115   \n",
       "452         Rural             8.280964         8.644883        5.003946   \n",
       "355         Urban             8.246172         8.246172        4.753590   \n",
       "266     Semiurban             8.457018         8.715224        5.010635   \n",
       "..            ...                  ...              ...             ...   \n",
       "277         Urban             8.040125         8.390041        4.382027   \n",
       "9       Semiurban             9.460398        10.077819        5.855072   \n",
       "359     Semiurban             8.550048         9.028099        5.298317   \n",
       "192         Urban             8.705000         8.705000        5.075174   \n",
       "559     Semiurban             8.338067         8.777401        5.204007   \n",
       "\n",
       "     Loan_Amount_Term_log  \n",
       "90               5.886104  \n",
       "533              5.886104  \n",
       "452              5.886104  \n",
       "355              5.192957  \n",
       "266              5.886104  \n",
       "..                    ...  \n",
       "277              5.886104  \n",
       "9                5.886104  \n",
       "359              5.886104  \n",
       "192              5.886104  \n",
       "559              5.886104  \n",
       "\n",
       "[491 rows x 11 columns]"
      ]
     },
     "execution_count": 39,
     "metadata": {},
     "output_type": "execute_result"
    }
   ],
   "source": [
    "X_train"
   ]
  },
  {
   "cell_type": "markdown",
   "id": "22613c42",
   "metadata": {
    "papermill": {
     "duration": 0.068146,
     "end_time": "2021-09-27T11:11:01.497607",
     "exception": false,
     "start_time": "2021-09-27T11:11:01.429461",
     "status": "completed"
    },
    "tags": []
   },
   "source": [
    "**convert categorical columns values into numerical**"
   ]
  },
  {
   "cell_type": "code",
   "execution_count": 40,
   "id": "b002a561",
   "metadata": {
    "execution": {
     "iopub.execute_input": "2021-09-27T11:11:01.647014Z",
     "iopub.status.busy": "2021-09-27T11:11:01.646328Z",
     "iopub.status.idle": "2021-09-27T11:11:01.649908Z",
     "shell.execute_reply": "2021-09-27T11:11:01.650426Z",
     "shell.execute_reply.started": "2021-09-27T10:11:42.594451Z"
    },
    "papermill": {
     "duration": 0.081151,
     "end_time": "2021-09-27T11:11:01.650600",
     "exception": false,
     "start_time": "2021-09-27T11:11:01.569449",
     "status": "completed"
    },
    "tags": []
   },
   "outputs": [
    {
     "name": "stdout",
     "output_type": "stream",
     "text": [
      "Categorical variables:\n",
      "['Gender', 'Married', 'Dependents', 'Education', 'Self_Employed', 'Property_Area']\n"
     ]
    }
   ],
   "source": [
    "# Get list of categorical variables\n",
    "s = (X_train.dtypes == 'object')\n",
    "object_cols = list(s[s].index)\n",
    "\n",
    "print(\"Categorical variables:\")\n",
    "print(object_cols)"
   ]
  },
  {
   "cell_type": "code",
   "execution_count": 41,
   "id": "9907b571",
   "metadata": {
    "execution": {
     "iopub.execute_input": "2021-09-27T11:11:01.800811Z",
     "iopub.status.busy": "2021-09-27T11:11:01.799600Z",
     "iopub.status.idle": "2021-09-27T11:11:01.815672Z",
     "shell.execute_reply": "2021-09-27T11:11:01.815010Z",
     "shell.execute_reply.started": "2021-09-27T10:27:27.873028Z"
    },
    "papermill": {
     "duration": 0.095289,
     "end_time": "2021-09-27T11:11:01.815845",
     "exception": false,
     "start_time": "2021-09-27T11:11:01.720556",
     "status": "completed"
    },
    "tags": []
   },
   "outputs": [],
   "source": [
    "from sklearn.preprocessing import OrdinalEncoder, LabelEncoder\n",
    "\n",
    "# Make copy to avoid changing original data \n",
    "label_X_train = X_train.copy()\n",
    "label_X_test = X_test.copy()\n",
    "\n",
    "# Apply Ordinal encoder to each column with categorical data\n",
    "ordinal_encoder = OrdinalEncoder()\n",
    "label_X_train[object_cols] = ordinal_encoder.fit_transform(X_train[object_cols])\n",
    "label_X_test[object_cols] = ordinal_encoder.transform(X_test[object_cols])"
   ]
  },
  {
   "cell_type": "code",
   "execution_count": 42,
   "id": "e39dac9e",
   "metadata": {
    "execution": {
     "iopub.execute_input": "2021-09-27T11:11:01.957297Z",
     "iopub.status.busy": "2021-09-27T11:11:01.956587Z",
     "iopub.status.idle": "2021-09-27T11:11:01.961653Z",
     "shell.execute_reply": "2021-09-27T11:11:01.962127Z",
     "shell.execute_reply.started": "2021-09-27T10:27:38.712790Z"
    },
    "papermill": {
     "duration": 0.077895,
     "end_time": "2021-09-27T11:11:01.962355",
     "exception": false,
     "start_time": "2021-09-27T11:11:01.884460",
     "status": "completed"
    },
    "tags": []
   },
   "outputs": [],
   "source": [
    "# Make copy to avoid changing original data \n",
    "label_y_train = y_train.copy()\n",
    "label_y_test = y_test.copy()\n",
    "\n",
    "#apply encoder on y split variables\n",
    "label_encoder = LabelEncoder()\n",
    "label_y_train =  label_encoder.fit_transform(label_y_train)\n",
    "label_y_test =  label_encoder.fit_transform(label_y_test)"
   ]
  },
  {
   "cell_type": "markdown",
   "id": "c3b342a3",
   "metadata": {
    "papermill": {
     "duration": 0.069831,
     "end_time": "2021-09-27T11:11:02.102167",
     "exception": false,
     "start_time": "2021-09-27T11:11:02.032336",
     "status": "completed"
    },
    "tags": []
   },
   "source": [
    "**Apply Decision Tree models**"
   ]
  },
  {
   "cell_type": "code",
   "execution_count": 43,
   "id": "dee3fb24",
   "metadata": {
    "execution": {
     "iopub.execute_input": "2021-09-27T11:11:02.252548Z",
     "iopub.status.busy": "2021-09-27T11:11:02.251107Z",
     "iopub.status.idle": "2021-09-27T11:11:02.459992Z",
     "shell.execute_reply": "2021-09-27T11:11:02.459443Z",
     "shell.execute_reply.started": "2021-09-27T10:34:33.344124Z"
    },
    "papermill": {
     "duration": 0.289509,
     "end_time": "2021-09-27T11:11:02.460160",
     "exception": false,
     "start_time": "2021-09-27T11:11:02.170651",
     "status": "completed"
    },
    "tags": []
   },
   "outputs": [
    {
     "data": {
      "text/plain": [
       "DecisionTreeClassifier(criterion='entropy', random_state=0)"
      ]
     },
     "execution_count": 43,
     "metadata": {},
     "output_type": "execute_result"
    }
   ],
   "source": [
    "from sklearn.tree import DecisionTreeClassifier\n",
    "DTClassifier = DecisionTreeClassifier(criterion='entropy', random_state=0)\n",
    "DTClassifier.fit(label_X_train, label_y_train)"
   ]
  },
  {
   "cell_type": "code",
   "execution_count": 44,
   "id": "001d11c3",
   "metadata": {
    "execution": {
     "iopub.execute_input": "2021-09-27T11:11:02.608170Z",
     "iopub.status.busy": "2021-09-27T11:11:02.603207Z",
     "iopub.status.idle": "2021-09-27T11:11:02.617748Z",
     "shell.execute_reply": "2021-09-27T11:11:02.616858Z",
     "shell.execute_reply.started": "2021-09-27T10:35:28.552627Z"
    },
    "papermill": {
     "duration": 0.089028,
     "end_time": "2021-09-27T11:11:02.617973",
     "exception": false,
     "start_time": "2021-09-27T11:11:02.528945",
     "status": "completed"
    },
    "tags": []
   },
   "outputs": [
    {
     "data": {
      "text/plain": [
       "array([0, 1, 1, 0, 1, 0, 1, 1, 0, 1, 1, 1, 1, 1, 1, 0, 0, 1, 0, 0, 0, 1,\n",
       "       0, 1, 1, 1, 1, 0, 0, 0, 1, 1, 1, 1, 0, 0, 1, 1, 1, 1, 1, 0, 0, 0,\n",
       "       0, 1, 1, 1, 1, 1, 1, 1, 1, 1, 0, 0, 1, 1, 1, 1, 0, 0, 1, 0, 1, 1,\n",
       "       1, 1, 1, 1, 1, 1, 0, 1, 1, 1, 1, 1, 1, 0, 0, 1, 1, 1, 1, 1, 1, 1,\n",
       "       1, 1, 1, 1, 0, 0, 0, 0, 1, 1, 1, 1, 0, 1, 0, 1, 1, 1, 1, 0, 1, 1,\n",
       "       1, 0, 1, 1, 0, 0, 1, 1, 0, 1, 1, 0, 1])"
      ]
     },
     "execution_count": 44,
     "metadata": {},
     "output_type": "execute_result"
    }
   ],
   "source": [
    "#prediction of data\n",
    "pred = DTClassifier.predict(label_X_test)\n",
    "pred"
   ]
  },
  {
   "cell_type": "markdown",
   "id": "0d2073b3",
   "metadata": {
    "papermill": {
     "duration": 0.072419,
     "end_time": "2021-09-27T11:11:02.772508",
     "exception": false,
     "start_time": "2021-09-27T11:11:02.700089",
     "status": "completed"
    },
    "tags": []
   },
   "source": [
    "**Accuracy of model**"
   ]
  },
  {
   "cell_type": "code",
   "execution_count": 45,
   "id": "2f129be1",
   "metadata": {
    "execution": {
     "iopub.execute_input": "2021-09-27T11:11:02.933925Z",
     "iopub.status.busy": "2021-09-27T11:11:02.933133Z",
     "iopub.status.idle": "2021-09-27T11:11:02.942182Z",
     "shell.execute_reply": "2021-09-27T11:11:02.941126Z",
     "shell.execute_reply.started": "2021-09-27T10:45:30.356869Z"
    },
    "papermill": {
     "duration": 0.096247,
     "end_time": "2021-09-27T11:11:02.942424",
     "exception": false,
     "start_time": "2021-09-27T11:11:02.846177",
     "status": "completed"
    },
    "tags": []
   },
   "outputs": [
    {
     "name": "stdout",
     "output_type": "stream",
     "text": [
      "Acuracy of Decision Tree model is :  0.7398373983739838\n"
     ]
    }
   ],
   "source": [
    "from sklearn import metrics\n",
    "print(\"Acuracy of Decision Tree model is : \", metrics.accuracy_score(pred, label_y_test))"
   ]
  },
  {
   "cell_type": "markdown",
   "id": "3369d4d0",
   "metadata": {
    "papermill": {
     "duration": 0.071658,
     "end_time": "2021-09-27T11:11:03.092292",
     "exception": false,
     "start_time": "2021-09-27T11:11:03.020634",
     "status": "completed"
    },
    "tags": []
   },
   "source": [
    "**Apply Naive Baise Model**"
   ]
  },
  {
   "cell_type": "code",
   "execution_count": 46,
   "id": "821a055d",
   "metadata": {
    "execution": {
     "iopub.execute_input": "2021-09-27T11:11:03.243038Z",
     "iopub.status.busy": "2021-09-27T11:11:03.242351Z",
     "iopub.status.idle": "2021-09-27T11:11:03.258062Z",
     "shell.execute_reply": "2021-09-27T11:11:03.257417Z",
     "shell.execute_reply.started": "2021-09-27T10:59:43.771217Z"
    },
    "papermill": {
     "duration": 0.094352,
     "end_time": "2021-09-27T11:11:03.258237",
     "exception": false,
     "start_time": "2021-09-27T11:11:03.163885",
     "status": "completed"
    },
    "tags": []
   },
   "outputs": [
    {
     "name": "stdout",
     "output_type": "stream",
     "text": [
      "Acuracy of Naive Bayes model is :  0.8211382113821138\n"
     ]
    }
   ],
   "source": [
    "from sklearn.naive_bayes import GaussianNB\n",
    "NBClassifier = GaussianNB()\n",
    "NBClassifier.fit(label_X_train, label_y_train)\n",
    "NB_pred = NBClassifier.predict(label_X_test)\n",
    "print(\"Acuracy of Naive Bayes model is : \", metrics.accuracy_score(NB_pred, label_y_test))"
   ]
  },
  {
   "cell_type": "markdown",
   "id": "cc4ba377",
   "metadata": {
    "papermill": {
     "duration": 0.073928,
     "end_time": "2021-09-27T11:11:03.404465",
     "exception": false,
     "start_time": "2021-09-27T11:11:03.330537",
     "status": "completed"
    },
    "tags": []
   },
   "source": [
    "**Apply Random Forest CLassifier model**"
   ]
  },
  {
   "cell_type": "code",
   "execution_count": 47,
   "id": "6549ea88",
   "metadata": {
    "execution": {
     "iopub.execute_input": "2021-09-27T11:11:03.552704Z",
     "iopub.status.busy": "2021-09-27T11:11:03.551714Z",
     "iopub.status.idle": "2021-09-27T11:11:03.612456Z",
     "shell.execute_reply": "2021-09-27T11:11:03.611713Z",
     "shell.execute_reply.started": "2021-09-27T11:03:05.053533Z"
    },
    "papermill": {
     "duration": 0.134347,
     "end_time": "2021-09-27T11:11:03.612608",
     "exception": false,
     "start_time": "2021-09-27T11:11:03.478261",
     "status": "completed"
    },
    "tags": []
   },
   "outputs": [],
   "source": [
    "from sklearn.ensemble import RandomForestClassifier\n",
    "\n",
    "RFClassifier = RandomForestClassifier(n_estimators=8, random_state=0)\n",
    "RFClassifier.fit(label_X_train, label_y_train)\n",
    "RFpred = RFClassifier.predict(label_X_test)"
   ]
  },
  {
   "cell_type": "markdown",
   "id": "82924f98",
   "metadata": {
    "papermill": {
     "duration": 0.070713,
     "end_time": "2021-09-27T11:11:03.755845",
     "exception": false,
     "start_time": "2021-09-27T11:11:03.685132",
     "status": "completed"
    },
    "tags": []
   },
   "source": [
    "****"
   ]
  },
  {
   "cell_type": "markdown",
   "id": "eb69adda",
   "metadata": {
    "papermill": {
     "duration": 0.073116,
     "end_time": "2021-09-27T11:11:03.905453",
     "exception": false,
     "start_time": "2021-09-27T11:11:03.832337",
     "status": "completed"
    },
    "tags": []
   },
   "source": [
    "**Support Vector machine**"
   ]
  },
  {
   "cell_type": "code",
   "execution_count": 48,
   "id": "39c1252b",
   "metadata": {
    "execution": {
     "iopub.execute_input": "2021-09-27T11:11:04.050720Z",
     "iopub.status.busy": "2021-09-27T11:11:04.049675Z",
     "iopub.status.idle": "2021-09-27T11:11:04.077187Z",
     "shell.execute_reply": "2021-09-27T11:11:04.078319Z",
     "shell.execute_reply.started": "2021-09-27T10:59:14.403346Z"
    },
    "papermill": {
     "duration": 0.102828,
     "end_time": "2021-09-27T11:11:04.078610",
     "exception": false,
     "start_time": "2021-09-27T11:11:03.975782",
     "status": "completed"
    },
    "tags": []
   },
   "outputs": [
    {
     "name": "stdout",
     "output_type": "stream",
     "text": [
      "Acuracy of Support vector Machine model is :  0.7317073170731707\n"
     ]
    }
   ],
   "source": [
    "from sklearn.svm import SVC\n",
    "clf = SVC(kernel='sigmoid', C=1)\n",
    "clf.fit(label_X_train, label_y_train)\n",
    "clf_pred = clf.predict(label_X_test)\n",
    "print(\"Acuracy of Support vector Machine model is : \", metrics.accuracy_score(clf_pred, label_y_test))"
   ]
  },
  {
   "cell_type": "markdown",
   "id": "da5b58f6",
   "metadata": {
    "papermill": {
     "duration": 0.070605,
     "end_time": "2021-09-27T11:11:04.220769",
     "exception": false,
     "start_time": "2021-09-27T11:11:04.150164",
     "status": "completed"
    },
    "tags": []
   },
   "source": [
    "**Logistic Regression Model**"
   ]
  },
  {
   "cell_type": "code",
   "execution_count": 49,
   "id": "e7a50c55",
   "metadata": {
    "execution": {
     "iopub.execute_input": "2021-09-27T11:11:04.367953Z",
     "iopub.status.busy": "2021-09-27T11:11:04.367178Z",
     "iopub.status.idle": "2021-09-27T11:11:04.408545Z",
     "shell.execute_reply": "2021-09-27T11:11:04.407798Z",
     "shell.execute_reply.started": "2021-09-27T11:06:42.472434Z"
    },
    "papermill": {
     "duration": 0.116955,
     "end_time": "2021-09-27T11:11:04.408711",
     "exception": false,
     "start_time": "2021-09-27T11:11:04.291756",
     "status": "completed"
    },
    "tags": []
   },
   "outputs": [],
   "source": [
    "#logistic model\n",
    "from sklearn.linear_model import LogisticRegression\n",
    "logistic_model = LogisticRegression()\n",
    "logistic_model.fit(label_X_train, label_y_train)\n",
    "log_pred = logistic_model.predict(label_X_test)"
   ]
  },
  {
   "cell_type": "markdown",
   "id": "83e84fc8",
   "metadata": {
    "papermill": {
     "duration": 0.070081,
     "end_time": "2021-09-27T11:11:04.549846",
     "exception": false,
     "start_time": "2021-09-27T11:11:04.479765",
     "status": "completed"
    },
    "tags": []
   },
   "source": [
    "**Accuracy of all applied models**\n",
    "\n",
    "We, can see that SVM model has high accuracy than all other models"
   ]
  },
  {
   "cell_type": "code",
   "execution_count": 50,
   "id": "9e3e5fa2",
   "metadata": {
    "execution": {
     "iopub.execute_input": "2021-09-27T11:11:04.696935Z",
     "iopub.status.busy": "2021-09-27T11:11:04.695916Z",
     "iopub.status.idle": "2021-09-27T11:11:04.707097Z",
     "shell.execute_reply": "2021-09-27T11:11:04.706179Z",
     "shell.execute_reply.started": "2021-09-27T11:07:00.421979Z"
    },
    "papermill": {
     "duration": 0.08639,
     "end_time": "2021-09-27T11:11:04.707323",
     "exception": false,
     "start_time": "2021-09-27T11:11:04.620933",
     "status": "completed"
    },
    "tags": []
   },
   "outputs": [
    {
     "name": "stdout",
     "output_type": "stream",
     "text": [
      "Acuracy of Randon Forest model is :  0.6910569105691057\n",
      "Acuracy of Decision Tree model is :  0.7398373983739838\n",
      "Acuracy of Naive Bayes model is :  0.8211382113821138\n",
      "Acuracy of Logistic Regression model is :  0.8292682926829268\n",
      "Acuracy of Support vector Machine model is :  0.7317073170731707\n"
     ]
    }
   ],
   "source": [
    "print(\"Acuracy of Randon Forest model is : \", metrics.accuracy_score(RFpred, label_y_test))\n",
    "print(\"Acuracy of Decision Tree model is : \", metrics.accuracy_score(pred, label_y_test))\n",
    "print(\"Acuracy of Naive Bayes model is : \", metrics.accuracy_score(NB_pred, label_y_test))\n",
    "print(\"Acuracy of Logistic Regression model is : \", metrics.accuracy_score(log_pred, label_y_test))\n",
    "print(\"Acuracy of Support vector Machine model is : \", metrics.accuracy_score(clf_pred, label_y_test))"
   ]
  },
  {
   "cell_type": "code",
   "execution_count": null,
   "id": "f884740c",
   "metadata": {
    "papermill": {
     "duration": 0.070722,
     "end_time": "2021-09-27T11:11:04.848810",
     "exception": false,
     "start_time": "2021-09-27T11:11:04.778088",
     "status": "completed"
    },
    "tags": []
   },
   "outputs": [],
   "source": []
  }
 ],
 "metadata": {
  "kernelspec": {
   "display_name": "Python 3",
   "language": "python",
   "name": "python3"
  },
  "language_info": {
   "codemirror_mode": {
    "name": "ipython",
    "version": 3
   },
   "file_extension": ".py",
   "mimetype": "text/x-python",
   "name": "python",
   "nbconvert_exporter": "python",
   "pygments_lexer": "ipython3",
   "version": "3.8.8"
  },
  "papermill": {
   "default_parameters": {},
   "duration": 25.008557,
   "end_time": "2021-09-27T11:11:06.342072",
   "environment_variables": {},
   "exception": null,
   "input_path": "__notebook__.ipynb",
   "output_path": "__notebook__.ipynb",
   "parameters": {},
   "start_time": "2021-09-27T11:10:41.333515",
   "version": "2.3.3"
  }
 },
 "nbformat": 4,
 "nbformat_minor": 5
}
